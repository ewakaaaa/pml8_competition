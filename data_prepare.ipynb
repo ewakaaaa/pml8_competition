{
 "metadata": {
  "language_info": {
   "codemirror_mode": {
    "name": "ipython",
    "version": 3
   },
   "file_extension": ".py",
   "mimetype": "text/x-python",
   "name": "python",
   "nbconvert_exporter": "python",
   "pygments_lexer": "ipython3",
   "version": "3.8.0-final"
  },
  "orig_nbformat": 2,
  "kernelspec": {
   "name": "python380jvsc74a57bd04583bab037e00c4e93a903f9659346ccdbad220989f9939860f3ccee1a964749",
   "display_name": "Python 3.8.0 64-bit ('pml8')"
  }
 },
 "nbformat": 4,
 "nbformat_minor": 2,
 "cells": [
  {
   "cell_type": "code",
   "execution_count": 4,
   "metadata": {},
   "outputs": [],
   "source": [
    "import pandas as pd \n",
    "import numpy as np "
   ]
  },
  {
   "cell_type": "code",
   "execution_count": 6,
   "metadata": {},
   "outputs": [
    {
     "output_type": "execute_result",
     "data": {
      "text/plain": [
       "                                         breadcrumbs  \\\n",
       "0                              [Москва, МЦК Лужники]   \n",
       "1  [Москва, Новая Москва, п. Сосенское, п. Коммун...   \n",
       "2                 [Москва, МЦК Крымская, ул. Поляны]   \n",
       "3         [Москва, Беговой, м. Динамо, МЦК Хорошёво]   \n",
       "4    [Москва, Филёвский Парк, м. Фили, МЦК Шелепиха]   \n",
       "\n",
       "                                                date  \\\n",
       "0  [23 февраля 2018, 133, (+2 за сегодня), Обновл...   \n",
       "1              [сегодня в 04:52, 3, (+3 за сегодня)]   \n",
       "2    [5 марта, 6, (+1 за сегодня), Обновлено 15 мая]   \n",
       "3  [22 мая 2018, 60, (+2 за сегодня), Обновлено 1...   \n",
       "4  [26 декабря 2018, 13, (+1 за сегодня), Обновле...   \n",
       "\n",
       "                                           geo_block owner       price  \\\n",
       "0                             [г. Москва, г. Москва]    []  380.610000   \n",
       "1  [Новая Москва, п. Сосенское, п. Коммунарка, Юж...    []    8.004631   \n",
       "2       [г. Москва, ул Поляны, г. Москва, ул Поляны]    []    6.520000   \n",
       "3           [г. Москва, Беговой, г. Москва, Беговой]    []   20.269686   \n",
       "4  [г. Москва, Филёвский Парк, г. Москва, Филёвск...    []   15.100880   \n",
       "\n",
       "                                           Security:    Building type:  \\\n",
       "0  secure Parking, video surveillance, 24-hour se...             Brick   \n",
       "1                                                Yes  Monolithic-brick   \n",
       "2                                           provided        Monolithic   \n",
       "3                                                NaN        Monolithic   \n",
       "4                                                NaN        Monolithic   \n",
       "\n",
       "  Object type:            Ad type: Commission agent:  ... Room type:  \\\n",
       "0   apartments        new building            no fee  ...        NaN   \n",
       "1         flat  from the developer            no fee  ...        NaN   \n",
       "2   apartments  from the developer            no fee  ...        NaN   \n",
       "3         flat        new building            no fee  ...        NaN   \n",
       "4   apartments           secondary            no fee  ...        NaN   \n",
       "\n",
       "  Internet: Kitchen furniture:  TV: Washing machine: Foundation type:  \\\n",
       "0       NaN                NaN  NaN              NaN              NaN   \n",
       "1       NaN                NaN  NaN              NaN              NaN   \n",
       "2       NaN                NaN  NaN              NaN              NaN   \n",
       "3       NaN                NaN  NaN              NaN              NaN   \n",
       "4       NaN                NaN  NaN              NaN              NaN   \n",
       "\n",
       "  Overlap type: Type of the building: Playground: Class:  \n",
       "0           NaN                   NaN         NaN    NaN  \n",
       "1           NaN                   NaN         NaN    NaN  \n",
       "2           NaN                   NaN         NaN    NaN  \n",
       "3           NaN                   NaN         NaN    NaN  \n",
       "4           NaN                   NaN         NaN    NaN  \n",
       "\n",
       "[5 rows x 35 columns]"
      ],
      "text/html": "<div>\n<style scoped>\n    .dataframe tbody tr th:only-of-type {\n        vertical-align: middle;\n    }\n\n    .dataframe tbody tr th {\n        vertical-align: top;\n    }\n\n    .dataframe thead th {\n        text-align: right;\n    }\n</style>\n<table border=\"1\" class=\"dataframe\">\n  <thead>\n    <tr style=\"text-align: right;\">\n      <th></th>\n      <th>breadcrumbs</th>\n      <th>date</th>\n      <th>geo_block</th>\n      <th>owner</th>\n      <th>price</th>\n      <th>Security:</th>\n      <th>Building type:</th>\n      <th>Object type:</th>\n      <th>Ad type:</th>\n      <th>Commission agent:</th>\n      <th>...</th>\n      <th>Room type:</th>\n      <th>Internet:</th>\n      <th>Kitchen furniture:</th>\n      <th>TV:</th>\n      <th>Washing machine:</th>\n      <th>Foundation type:</th>\n      <th>Overlap type:</th>\n      <th>Type of the building:</th>\n      <th>Playground:</th>\n      <th>Class:</th>\n    </tr>\n  </thead>\n  <tbody>\n    <tr>\n      <th>0</th>\n      <td>[Москва, МЦК Лужники]</td>\n      <td>[23 февраля 2018, 133, (+2 за сегодня), Обновл...</td>\n      <td>[г. Москва, г. Москва]</td>\n      <td>[]</td>\n      <td>380.610000</td>\n      <td>secure Parking, video surveillance, 24-hour se...</td>\n      <td>Brick</td>\n      <td>apartments</td>\n      <td>new building</td>\n      <td>no fee</td>\n      <td>...</td>\n      <td>NaN</td>\n      <td>NaN</td>\n      <td>NaN</td>\n      <td>NaN</td>\n      <td>NaN</td>\n      <td>NaN</td>\n      <td>NaN</td>\n      <td>NaN</td>\n      <td>NaN</td>\n      <td>NaN</td>\n    </tr>\n    <tr>\n      <th>1</th>\n      <td>[Москва, Новая Москва, п. Сосенское, п. Коммун...</td>\n      <td>[сегодня в 04:52, 3, (+3 за сегодня)]</td>\n      <td>[Новая Москва, п. Сосенское, п. Коммунарка, Юж...</td>\n      <td>[]</td>\n      <td>8.004631</td>\n      <td>Yes</td>\n      <td>Monolithic-brick</td>\n      <td>flat</td>\n      <td>from the developer</td>\n      <td>no fee</td>\n      <td>...</td>\n      <td>NaN</td>\n      <td>NaN</td>\n      <td>NaN</td>\n      <td>NaN</td>\n      <td>NaN</td>\n      <td>NaN</td>\n      <td>NaN</td>\n      <td>NaN</td>\n      <td>NaN</td>\n      <td>NaN</td>\n    </tr>\n    <tr>\n      <th>2</th>\n      <td>[Москва, МЦК Крымская, ул. Поляны]</td>\n      <td>[5 марта, 6, (+1 за сегодня), Обновлено 15 мая]</td>\n      <td>[г. Москва, ул Поляны, г. Москва, ул Поляны]</td>\n      <td>[]</td>\n      <td>6.520000</td>\n      <td>provided</td>\n      <td>Monolithic</td>\n      <td>apartments</td>\n      <td>from the developer</td>\n      <td>no fee</td>\n      <td>...</td>\n      <td>NaN</td>\n      <td>NaN</td>\n      <td>NaN</td>\n      <td>NaN</td>\n      <td>NaN</td>\n      <td>NaN</td>\n      <td>NaN</td>\n      <td>NaN</td>\n      <td>NaN</td>\n      <td>NaN</td>\n    </tr>\n    <tr>\n      <th>3</th>\n      <td>[Москва, Беговой, м. Динамо, МЦК Хорошёво]</td>\n      <td>[22 мая 2018, 60, (+2 за сегодня), Обновлено 1...</td>\n      <td>[г. Москва, Беговой, г. Москва, Беговой]</td>\n      <td>[]</td>\n      <td>20.269686</td>\n      <td>NaN</td>\n      <td>Monolithic</td>\n      <td>flat</td>\n      <td>new building</td>\n      <td>no fee</td>\n      <td>...</td>\n      <td>NaN</td>\n      <td>NaN</td>\n      <td>NaN</td>\n      <td>NaN</td>\n      <td>NaN</td>\n      <td>NaN</td>\n      <td>NaN</td>\n      <td>NaN</td>\n      <td>NaN</td>\n      <td>NaN</td>\n    </tr>\n    <tr>\n      <th>4</th>\n      <td>[Москва, Филёвский Парк, м. Фили, МЦК Шелепиха]</td>\n      <td>[26 декабря 2018, 13, (+1 за сегодня), Обновле...</td>\n      <td>[г. Москва, Филёвский Парк, г. Москва, Филёвск...</td>\n      <td>[]</td>\n      <td>15.100880</td>\n      <td>NaN</td>\n      <td>Monolithic</td>\n      <td>apartments</td>\n      <td>secondary</td>\n      <td>no fee</td>\n      <td>...</td>\n      <td>NaN</td>\n      <td>NaN</td>\n      <td>NaN</td>\n      <td>NaN</td>\n      <td>NaN</td>\n      <td>NaN</td>\n      <td>NaN</td>\n      <td>NaN</td>\n      <td>NaN</td>\n      <td>NaN</td>\n    </tr>\n  </tbody>\n</table>\n<p>5 rows × 35 columns</p>\n</div>"
     },
     "metadata": {},
     "execution_count": 6
    }
   ],
   "source": [
    "train = pd.read_hdf('data/property.train.h5')\n",
    "train.head()"
   ]
  },
  {
   "cell_type": "code",
   "execution_count": 8,
   "metadata": {},
   "outputs": [
    {
     "output_type": "execute_result",
     "data": {
      "text/plain": [
       "['Москва', 'МЦК Крымская', 'ул. Поляны']"
      ]
     },
     "metadata": {},
     "execution_count": 8
    }
   ],
   "source": [
    "train.breadcrumbs[2]"
   ]
  },
  {
   "cell_type": "code",
   "execution_count": null,
   "metadata": {},
   "outputs": [],
   "source": [
    "for col in train.columns[4:]:\n",
    "    print(col)\n",
    "    print(train[col].unique())\n",
    "    "
   ]
  },
  {
   "cell_type": "code",
   "execution_count": null,
   "metadata": {},
   "outputs": [],
   "source": [
    "for col in train.columns[4:]: \n",
    "    fig, ax = plt.subplots(figsize=(12,3))\n",
    "    train[col].hist(bins =50)\n",
    "    plt.title(col)"
   ]
  }
 ]
}