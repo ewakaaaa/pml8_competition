{
 "metadata": {
  "language_info": {
   "codemirror_mode": {
    "name": "ipython",
    "version": 3
   },
   "file_extension": ".py",
   "mimetype": "text/x-python",
   "name": "python",
   "nbconvert_exporter": "python",
   "pygments_lexer": "ipython3",
   "version": "3.8.0-final"
  },
  "orig_nbformat": 2,
  "kernelspec": {
   "name": "python380jvsc74a57bd04583bab037e00c4e93a903f9659346ccdbad220989f9939860f3ccee1a964749",
   "display_name": "Python 3.8.0 64-bit"
  }
 },
 "nbformat": 4,
 "nbformat_minor": 2,
 "cells": [
  {
   "cell_type": "code",
   "execution_count": 319,
   "metadata": {},
   "outputs": [],
   "source": [
    "import pandas as pd \n",
    "import numpy as np \n",
    "import utils.data_prepare as dp \n",
    "from geopy.geocoders import Nominatim\n",
    "\n",
    "geolocator = Nominatim(user_agent=\"example app\")\n",
    "\n",
    "def get_geopy_data(address):\n",
    "    if geolocator.geocode(address):\n",
    "        lat, lon, p = geolocator.geocode(address).point\n",
    "        return [lat, lon]\n",
    "    else: \n",
    "        return \"can't find\"\n",
    "\n",
    "moskwa = [55.751244, 37.618423] "
   ]
  },
  {
   "cell_type": "code",
   "execution_count": 320,
   "metadata": {},
   "outputs": [],
   "source": [
    "train = pd.read_hdf('data/property.train.h5')"
   ]
  },
  {
   "cell_type": "code",
   "execution_count": 359,
   "metadata": {},
   "outputs": [],
   "source": [
    "metro_stations = pd.DataFrame({\n",
    "\"breadcrumbs_MCK\":[\n",
    "         \"МЦК Крымская\",\"МЦК Кутузовская\",\"МЦК Шелепиха\",\"МЦК Лужники\",\"МЦК Коптево\",\"МЦК Хорошёво\",\n",
    "         \"МЦК ЗИЛ\",\"МЦК Шоссе Энтузиастов\",\"МЦК Нижегородская\",\"МЦК Угрешская\",\"МЦК Владыкино\",\n",
    "         \"МЦК Лихоборы\",\"МЦК Ботанический сад\",\"МЦК Балтийская\",\"МЦК Зорге\",\"МЦК Ростокино\",\n",
    "         \"МЦК Локомотив\",\"МЦК Деловой центр\",\"МЦК Андроновка\",\"МЦК Новохохловская\",\"МЦК Соколиная Гора\",\n",
    "         \"МЦК Стрешнево\",\"МЦК Площадь Гагарина\",\"МЦК Окружная\",\"МЦК Панфиловская\",\"МЦК Верхние Котлы\",\n",
    "         \"МЦК Дубровка\",\"МЦК Бульвар Рокоссовского\",\"МЦК Автозаводская\",\"МЦК Белокаменная\",\"МЦК Измайлово\"\n",
    "        ],\n",
    " \"N_cat\"    :[\n",
    "     55.689996,55.739723,55.759055,55.720938,55.8339615,55.777063,\n",
    "     55.697998,55.758903,55.732153,55.7172056,55.8460453,\n",
    "     55.8461625,55.8456095,55.8245848,55.7889196,55.84286,\n",
    "     55.8032813,55.7477698,55.7459043,55.7240081,55.7715129,\n",
    "     55.813731,55.706997,55.8488708,55.7990171,55.690124,\n",
    "     55.7126485,55.817222,55.706525,55.8247339,55.7884887\n",
    " ],\n",
    " \"E_cat\"    :[\n",
    "     37.6030233,37.5322383,37.5204276,37.5578673,37.5095698,37.5052353,\n",
    "     37.6455663,37.7438224,37.7259292,37.694126,37.5871309,\n",
    "     37.57181,37.6375244,37.4928893,37.5017478,37.6630943,\n",
    "     37.7431398,37.5298063,37.7356328,37.7143756,37.7429271,\n",
    "     37.4848013,37.5841133,37.5699377,37.4967285,37.6165353,\n",
    "     37.675508,37.7347544,37.6612083,37.6935242,37.7423137     \n",
    " ]}) \n",
    " "
   ]
  },
  {
   "cell_type": "code",
   "execution_count": 360,
   "metadata": {},
   "outputs": [
    {
     "output_type": "display_data",
     "data": {
      "text/plain": "<Figure size 432x288 with 1 Axes>",
      "image/svg+xml": "<?xml version=\"1.0\" encoding=\"utf-8\" standalone=\"no\"?>\n<!DOCTYPE svg PUBLIC \"-//W3C//DTD SVG 1.1//EN\"\n  \"http://www.w3.org/Graphics/SVG/1.1/DTD/svg11.dtd\">\n<svg height=\"248.518125pt\" version=\"1.1\" viewBox=\"0 0 384.828125 248.518125\" width=\"384.828125pt\" xmlns=\"http://www.w3.org/2000/svg\" xmlns:xlink=\"http://www.w3.org/1999/xlink\">\n <metadata>\n  <rdf:RDF xmlns:cc=\"http://creativecommons.org/ns#\" xmlns:dc=\"http://purl.org/dc/elements/1.1/\" xmlns:rdf=\"http://www.w3.org/1999/02/22-rdf-syntax-ns#\">\n   <cc:Work>\n    <dc:type rdf:resource=\"http://purl.org/dc/dcmitype/StillImage\"/>\n    <dc:date>2021-04-24T16:43:01.935448</dc:date>\n    <dc:format>image/svg+xml</dc:format>\n    <dc:creator>\n     <cc:Agent>\n      <dc:title>Matplotlib v3.4.1, https://matplotlib.org/</dc:title>\n     </cc:Agent>\n    </dc:creator>\n   </cc:Work>\n  </rdf:RDF>\n </metadata>\n <defs>\n  <style type=\"text/css\">*{stroke-linecap:butt;stroke-linejoin:round;}</style>\n </defs>\n <g id=\"figure_1\">\n  <g id=\"patch_1\">\n   <path d=\"M 0 248.518125 \nL 384.828125 248.518125 \nL 384.828125 0 \nL 0 0 \nz\n\" style=\"fill:none;\"/>\n  </g>\n  <g id=\"axes_1\">\n   <g id=\"patch_2\">\n    <path d=\"M 42.828125 224.64 \nL 377.628125 224.64 \nL 377.628125 7.2 \nL 42.828125 7.2 \nz\n\" style=\"fill:#ffffff;\"/>\n   </g>\n   <g id=\"PathCollection_1\">\n    <defs>\n     <path d=\"M 0 3 \nC 0.795609 3 1.55874 2.683901 2.12132 2.12132 \nC 2.683901 1.55874 3 0.795609 3 0 \nC 3 -0.795609 2.683901 -1.55874 2.12132 -2.12132 \nC 1.55874 -2.683901 0.795609 -3 0 -3 \nC -0.795609 -3 -1.55874 -2.683901 -2.12132 -2.12132 \nC -2.683901 -1.55874 -3 -0.795609 -3 0 \nC -3 0.795609 -2.683901 1.55874 -2.12132 2.12132 \nC -1.55874 2.683901 -0.795609 3 0 3 \nz\n\" id=\"m6f115afee4\" style=\"stroke:#1f77b4;\"/>\n    </defs>\n    <g clip-path=\"url(#p52db53b585)\">\n     <use style=\"fill:#1f77b4;stroke:#1f77b4;\" x=\"58.046307\" xlink:href=\"#m6f115afee4\" y=\"124.534891\"/>\n     <use style=\"fill:#1f77b4;stroke:#1f77b4;\" x=\"153.310569\" xlink:href=\"#m6f115afee4\" y=\"178.554675\"/>\n     <use style=\"fill:#1f77b4;stroke:#1f77b4;\" x=\"190.345755\" xlink:href=\"#m6f115afee4\" y=\"187.568046\"/>\n     <use style=\"fill:#1f77b4;stroke:#1f77b4;\" x=\"117.323295\" xlink:href=\"#m6f115afee4\" y=\"158.995827\"/>\n     <use style=\"fill:#1f77b4;stroke:#1f77b4;\" x=\"333.847523\" xlink:href=\"#m6f115afee4\" y=\"195.854209\"/>\n     <use style=\"fill:#1f77b4;stroke:#1f77b4;\" x=\"224.844495\" xlink:href=\"#m6f115afee4\" y=\"199.162095\"/>\n     <use style=\"fill:#1f77b4;stroke:#1f77b4;\" x=\"73.3761\" xlink:href=\"#m6f115afee4\" y=\"92.068073\"/>\n     <use style=\"fill:#1f77b4;stroke:#1f77b4;\" x=\"190.054562\" xlink:href=\"#m6f115afee4\" y=\"17.083636\"/>\n     <use style=\"fill:#1f77b4;stroke:#1f77b4;\" x=\"138.808377\" xlink:href=\"#m6f115afee4\" y=\"30.738885\"/>\n     <use style=\"fill:#1f77b4;stroke:#1f77b4;\" x=\"110.172968\" xlink:href=\"#m6f115afee4\" y=\"55.009593\"/>\n     <use style=\"fill:#1f77b4;stroke:#1f77b4;\" x=\"356.997005\" xlink:href=\"#m6f115afee4\" y=\"136.663223\"/>\n     <use style=\"fill:#1f77b4;stroke:#1f77b4;\" x=\"357.22153\" xlink:href=\"#m6f115afee4\" y=\"148.355414\"/>\n     <use style=\"fill:#1f77b4;stroke:#1f77b4;\" x=\"356.162123\" xlink:href=\"#m6f115afee4\" y=\"98.205273\"/>\n     <use style=\"fill:#1f77b4;stroke:#1f77b4;\" x=\"315.884155\" xlink:href=\"#m6f115afee4\" y=\"208.583982\"/>\n     <use style=\"fill:#1f77b4;stroke:#1f77b4;\" x=\"247.558719\" xlink:href=\"#m6f115afee4\" y=\"201.823591\"/>\n     <use style=\"fill:#1f77b4;stroke:#1f77b4;\" x=\"350.894782\" xlink:href=\"#m6f115afee4\" y=\"78.691527\"/>\n     <use style=\"fill:#1f77b4;stroke:#1f77b4;\" x=\"275.072077\" xlink:href=\"#m6f115afee4\" y=\"17.604565\"/>\n     <use style=\"fill:#1f77b4;stroke:#1f77b4;\" x=\"168.726187\" xlink:href=\"#m6f115afee4\" y=\"180.410663\"/>\n     <use style=\"fill:#1f77b4;stroke:#1f77b4;\" x=\"165.152364\" xlink:href=\"#m6f115afee4\" y=\"23.333554\"/>\n     <use style=\"fill:#1f77b4;stroke:#1f77b4;\" x=\"123.204824\" xlink:href=\"#m6f115afee4\" y=\"39.55605\"/>\n     <use style=\"fill:#1f77b4;stroke:#1f77b4;\" x=\"214.211917\" xlink:href=\"#m6f115afee4\" y=\"17.766887\"/>\n     <use style=\"fill:#1f77b4;stroke:#1f77b4;\" x=\"295.09104\" xlink:href=\"#m6f115afee4\" y=\"214.756364\"/>\n     <use style=\"fill:#1f77b4;stroke:#1f77b4;\" x=\"90.615891\" xlink:href=\"#m6f115afee4\" y=\"138.966114\"/>\n     <use style=\"fill:#1f77b4;stroke:#1f77b4;\" x=\"362.409943\" xlink:href=\"#m6f115afee4\" y=\"149.784265\"/>\n     <use style=\"fill:#1f77b4;stroke:#1f77b4;\" x=\"266.902956\" xlink:href=\"#m6f115afee4\" y=\"205.654085\"/>\n     <use style=\"fill:#1f77b4;stroke:#1f77b4;\" x=\"58.291522\" xlink:href=\"#m6f115afee4\" y=\"114.223167\"/>\n     <use style=\"fill:#1f77b4;stroke:#1f77b4;\" x=\"101.442725\" xlink:href=\"#m6f115afee4\" y=\"69.217975\"/>\n     <use style=\"fill:#1f77b4;stroke:#1f77b4;\" x=\"301.778906\" xlink:href=\"#m6f115afee4\" y=\"24.003908\"/>\n     <use style=\"fill:#1f77b4;stroke:#1f77b4;\" x=\"89.711659\" xlink:href=\"#m6f115afee4\" y=\"80.130834\"/>\n     <use style=\"fill:#1f77b4;stroke:#1f77b4;\" x=\"316.169793\" xlink:href=\"#m6f115afee4\" y=\"55.468858\"/>\n     <use style=\"fill:#1f77b4;stroke:#1f77b4;\" x=\"246.733225\" xlink:href=\"#m6f115afee4\" y=\"18.235005\"/>\n    </g>\n   </g>\n   <g id=\"PathCollection_2\">\n    <defs>\n     <path d=\"M 0 3 \nC 0.795609 3 1.55874 2.683901 2.12132 2.12132 \nC 2.683901 1.55874 3 0.795609 3 0 \nC 3 -0.795609 2.683901 -1.55874 2.12132 -2.12132 \nC 1.55874 -2.683901 0.795609 -3 0 -3 \nC -0.795609 -3 -1.55874 -2.683901 -2.12132 -2.12132 \nC -2.683901 -1.55874 -3 -0.795609 -3 0 \nC -3 0.795609 -2.683901 1.55874 -2.12132 2.12132 \nC -1.55874 2.683901 -0.795609 3 0 3 \nz\n\" id=\"m8f37cf1a2c\" style=\"stroke:#ff7f0e;\"/>\n    </defs>\n    <g clip-path=\"url(#p52db53b585)\">\n     <use style=\"fill:#ff7f0e;stroke:#ff7f0e;\" x=\"175.381869\" xlink:href=\"#m8f37cf1a2c\" y=\"112.782564\"/>\n    </g>\n   </g>\n   <g id=\"matplotlib.axis_1\">\n    <g id=\"xtick_1\">\n     <g id=\"line2d_1\">\n      <defs>\n       <path d=\"M 0 0 \nL 0 3.5 \n\" id=\"m741a450e00\" style=\"stroke:#000000;stroke-width:0.8;\"/>\n      </defs>\n      <g>\n       <use style=\"stroke:#000000;stroke-width:0.8;\" x=\"77.211422\" xlink:href=\"#m741a450e00\" y=\"224.64\"/>\n      </g>\n     </g>\n     <g id=\"text_1\">\n      <!-- 55.70 -->\n      <g transform=\"translate(62.897359 239.238438)scale(0.1 -0.1)\">\n       <defs>\n        <path d=\"M 691 4666 \nL 3169 4666 \nL 3169 4134 \nL 1269 4134 \nL 1269 2991 \nQ 1406 3038 1543 3061 \nQ 1681 3084 1819 3084 \nQ 2600 3084 3056 2656 \nQ 3513 2228 3513 1497 \nQ 3513 744 3044 326 \nQ 2575 -91 1722 -91 \nQ 1428 -91 1123 -41 \nQ 819 9 494 109 \nL 494 744 \nQ 775 591 1075 516 \nQ 1375 441 1709 441 \nQ 2250 441 2565 725 \nQ 2881 1009 2881 1497 \nQ 2881 1984 2565 2268 \nQ 2250 2553 1709 2553 \nQ 1456 2553 1204 2497 \nQ 953 2441 691 2322 \nL 691 4666 \nz\n\" id=\"DejaVuSans-35\" transform=\"scale(0.015625)\"/>\n        <path d=\"M 684 794 \nL 1344 794 \nL 1344 0 \nL 684 0 \nL 684 794 \nz\n\" id=\"DejaVuSans-2e\" transform=\"scale(0.015625)\"/>\n        <path d=\"M 525 4666 \nL 3525 4666 \nL 3525 4397 \nL 1831 0 \nL 1172 0 \nL 2766 4134 \nL 525 4134 \nL 525 4666 \nz\n\" id=\"DejaVuSans-37\" transform=\"scale(0.015625)\"/>\n        <path d=\"M 2034 4250 \nQ 1547 4250 1301 3770 \nQ 1056 3291 1056 2328 \nQ 1056 1369 1301 889 \nQ 1547 409 2034 409 \nQ 2525 409 2770 889 \nQ 3016 1369 3016 2328 \nQ 3016 3291 2770 3770 \nQ 2525 4250 2034 4250 \nz\nM 2034 4750 \nQ 2819 4750 3233 4129 \nQ 3647 3509 3647 2328 \nQ 3647 1150 3233 529 \nQ 2819 -91 2034 -91 \nQ 1250 -91 836 529 \nQ 422 1150 422 2328 \nQ 422 3509 836 4129 \nQ 1250 4750 2034 4750 \nz\n\" id=\"DejaVuSans-30\" transform=\"scale(0.015625)\"/>\n       </defs>\n       <use xlink:href=\"#DejaVuSans-35\"/>\n       <use x=\"63.623047\" xlink:href=\"#DejaVuSans-35\"/>\n       <use x=\"127.246094\" xlink:href=\"#DejaVuSans-2e\"/>\n       <use x=\"159.033203\" xlink:href=\"#DejaVuSans-37\"/>\n       <use x=\"222.65625\" xlink:href=\"#DejaVuSans-30\"/>\n      </g>\n     </g>\n    </g>\n    <g id=\"xtick_2\">\n     <g id=\"line2d_2\">\n      <g>\n       <use style=\"stroke:#000000;stroke-width:0.8;\" x=\"115.526326\" xlink:href=\"#m741a450e00\" y=\"224.64\"/>\n      </g>\n     </g>\n     <g id=\"text_2\">\n      <!-- 55.72 -->\n      <g transform=\"translate(101.212263 239.238438)scale(0.1 -0.1)\">\n       <defs>\n        <path d=\"M 1228 531 \nL 3431 531 \nL 3431 0 \nL 469 0 \nL 469 531 \nQ 828 903 1448 1529 \nQ 2069 2156 2228 2338 \nQ 2531 2678 2651 2914 \nQ 2772 3150 2772 3378 \nQ 2772 3750 2511 3984 \nQ 2250 4219 1831 4219 \nQ 1534 4219 1204 4116 \nQ 875 4013 500 3803 \nL 500 4441 \nQ 881 4594 1212 4672 \nQ 1544 4750 1819 4750 \nQ 2544 4750 2975 4387 \nQ 3406 4025 3406 3419 \nQ 3406 3131 3298 2873 \nQ 3191 2616 2906 2266 \nQ 2828 2175 2409 1742 \nQ 1991 1309 1228 531 \nz\n\" id=\"DejaVuSans-32\" transform=\"scale(0.015625)\"/>\n       </defs>\n       <use xlink:href=\"#DejaVuSans-35\"/>\n       <use x=\"63.623047\" xlink:href=\"#DejaVuSans-35\"/>\n       <use x=\"127.246094\" xlink:href=\"#DejaVuSans-2e\"/>\n       <use x=\"159.033203\" xlink:href=\"#DejaVuSans-37\"/>\n       <use x=\"222.65625\" xlink:href=\"#DejaVuSans-32\"/>\n      </g>\n     </g>\n    </g>\n    <g id=\"xtick_3\">\n     <g id=\"line2d_3\">\n      <g>\n       <use style=\"stroke:#000000;stroke-width:0.8;\" x=\"153.84123\" xlink:href=\"#m741a450e00\" y=\"224.64\"/>\n      </g>\n     </g>\n     <g id=\"text_3\">\n      <!-- 55.74 -->\n      <g transform=\"translate(139.527168 239.238438)scale(0.1 -0.1)\">\n       <defs>\n        <path d=\"M 2419 4116 \nL 825 1625 \nL 2419 1625 \nL 2419 4116 \nz\nM 2253 4666 \nL 3047 4666 \nL 3047 1625 \nL 3713 1625 \nL 3713 1100 \nL 3047 1100 \nL 3047 0 \nL 2419 0 \nL 2419 1100 \nL 313 1100 \nL 313 1709 \nL 2253 4666 \nz\n\" id=\"DejaVuSans-34\" transform=\"scale(0.015625)\"/>\n       </defs>\n       <use xlink:href=\"#DejaVuSans-35\"/>\n       <use x=\"63.623047\" xlink:href=\"#DejaVuSans-35\"/>\n       <use x=\"127.246094\" xlink:href=\"#DejaVuSans-2e\"/>\n       <use x=\"159.033203\" xlink:href=\"#DejaVuSans-37\"/>\n       <use x=\"222.65625\" xlink:href=\"#DejaVuSans-34\"/>\n      </g>\n     </g>\n    </g>\n    <g id=\"xtick_4\">\n     <g id=\"line2d_4\">\n      <g>\n       <use style=\"stroke:#000000;stroke-width:0.8;\" x=\"192.156134\" xlink:href=\"#m741a450e00\" y=\"224.64\"/>\n      </g>\n     </g>\n     <g id=\"text_4\">\n      <!-- 55.76 -->\n      <g transform=\"translate(177.842072 239.238438)scale(0.1 -0.1)\">\n       <defs>\n        <path d=\"M 2113 2584 \nQ 1688 2584 1439 2293 \nQ 1191 2003 1191 1497 \nQ 1191 994 1439 701 \nQ 1688 409 2113 409 \nQ 2538 409 2786 701 \nQ 3034 994 3034 1497 \nQ 3034 2003 2786 2293 \nQ 2538 2584 2113 2584 \nz\nM 3366 4563 \nL 3366 3988 \nQ 3128 4100 2886 4159 \nQ 2644 4219 2406 4219 \nQ 1781 4219 1451 3797 \nQ 1122 3375 1075 2522 \nQ 1259 2794 1537 2939 \nQ 1816 3084 2150 3084 \nQ 2853 3084 3261 2657 \nQ 3669 2231 3669 1497 \nQ 3669 778 3244 343 \nQ 2819 -91 2113 -91 \nQ 1303 -91 875 529 \nQ 447 1150 447 2328 \nQ 447 3434 972 4092 \nQ 1497 4750 2381 4750 \nQ 2619 4750 2861 4703 \nQ 3103 4656 3366 4563 \nz\n\" id=\"DejaVuSans-36\" transform=\"scale(0.015625)\"/>\n       </defs>\n       <use xlink:href=\"#DejaVuSans-35\"/>\n       <use x=\"63.623047\" xlink:href=\"#DejaVuSans-35\"/>\n       <use x=\"127.246094\" xlink:href=\"#DejaVuSans-2e\"/>\n       <use x=\"159.033203\" xlink:href=\"#DejaVuSans-37\"/>\n       <use x=\"222.65625\" xlink:href=\"#DejaVuSans-36\"/>\n      </g>\n     </g>\n    </g>\n    <g id=\"xtick_5\">\n     <g id=\"line2d_5\">\n      <g>\n       <use style=\"stroke:#000000;stroke-width:0.8;\" x=\"230.471038\" xlink:href=\"#m741a450e00\" y=\"224.64\"/>\n      </g>\n     </g>\n     <g id=\"text_5\">\n      <!-- 55.78 -->\n      <g transform=\"translate(216.156976 239.238438)scale(0.1 -0.1)\">\n       <defs>\n        <path d=\"M 2034 2216 \nQ 1584 2216 1326 1975 \nQ 1069 1734 1069 1313 \nQ 1069 891 1326 650 \nQ 1584 409 2034 409 \nQ 2484 409 2743 651 \nQ 3003 894 3003 1313 \nQ 3003 1734 2745 1975 \nQ 2488 2216 2034 2216 \nz\nM 1403 2484 \nQ 997 2584 770 2862 \nQ 544 3141 544 3541 \nQ 544 4100 942 4425 \nQ 1341 4750 2034 4750 \nQ 2731 4750 3128 4425 \nQ 3525 4100 3525 3541 \nQ 3525 3141 3298 2862 \nQ 3072 2584 2669 2484 \nQ 3125 2378 3379 2068 \nQ 3634 1759 3634 1313 \nQ 3634 634 3220 271 \nQ 2806 -91 2034 -91 \nQ 1263 -91 848 271 \nQ 434 634 434 1313 \nQ 434 1759 690 2068 \nQ 947 2378 1403 2484 \nz\nM 1172 3481 \nQ 1172 3119 1398 2916 \nQ 1625 2713 2034 2713 \nQ 2441 2713 2670 2916 \nQ 2900 3119 2900 3481 \nQ 2900 3844 2670 4047 \nQ 2441 4250 2034 4250 \nQ 1625 4250 1398 4047 \nQ 1172 3844 1172 3481 \nz\n\" id=\"DejaVuSans-38\" transform=\"scale(0.015625)\"/>\n       </defs>\n       <use xlink:href=\"#DejaVuSans-35\"/>\n       <use x=\"63.623047\" xlink:href=\"#DejaVuSans-35\"/>\n       <use x=\"127.246094\" xlink:href=\"#DejaVuSans-2e\"/>\n       <use x=\"159.033203\" xlink:href=\"#DejaVuSans-37\"/>\n       <use x=\"222.65625\" xlink:href=\"#DejaVuSans-38\"/>\n      </g>\n     </g>\n    </g>\n    <g id=\"xtick_6\">\n     <g id=\"line2d_6\">\n      <g>\n       <use style=\"stroke:#000000;stroke-width:0.8;\" x=\"268.785942\" xlink:href=\"#m741a450e00\" y=\"224.64\"/>\n      </g>\n     </g>\n     <g id=\"text_6\">\n      <!-- 55.80 -->\n      <g transform=\"translate(254.47188 239.238438)scale(0.1 -0.1)\">\n       <use xlink:href=\"#DejaVuSans-35\"/>\n       <use x=\"63.623047\" xlink:href=\"#DejaVuSans-35\"/>\n       <use x=\"127.246094\" xlink:href=\"#DejaVuSans-2e\"/>\n       <use x=\"159.033203\" xlink:href=\"#DejaVuSans-38\"/>\n       <use x=\"222.65625\" xlink:href=\"#DejaVuSans-30\"/>\n      </g>\n     </g>\n    </g>\n    <g id=\"xtick_7\">\n     <g id=\"line2d_7\">\n      <g>\n       <use style=\"stroke:#000000;stroke-width:0.8;\" x=\"307.100847\" xlink:href=\"#m741a450e00\" y=\"224.64\"/>\n      </g>\n     </g>\n     <g id=\"text_7\">\n      <!-- 55.82 -->\n      <g transform=\"translate(292.786784 239.238438)scale(0.1 -0.1)\">\n       <use xlink:href=\"#DejaVuSans-35\"/>\n       <use x=\"63.623047\" xlink:href=\"#DejaVuSans-35\"/>\n       <use x=\"127.246094\" xlink:href=\"#DejaVuSans-2e\"/>\n       <use x=\"159.033203\" xlink:href=\"#DejaVuSans-38\"/>\n       <use x=\"222.65625\" xlink:href=\"#DejaVuSans-32\"/>\n      </g>\n     </g>\n    </g>\n    <g id=\"xtick_8\">\n     <g id=\"line2d_8\">\n      <g>\n       <use style=\"stroke:#000000;stroke-width:0.8;\" x=\"345.415751\" xlink:href=\"#m741a450e00\" y=\"224.64\"/>\n      </g>\n     </g>\n     <g id=\"text_8\">\n      <!-- 55.84 -->\n      <g transform=\"translate(331.101688 239.238438)scale(0.1 -0.1)\">\n       <use xlink:href=\"#DejaVuSans-35\"/>\n       <use x=\"63.623047\" xlink:href=\"#DejaVuSans-35\"/>\n       <use x=\"127.246094\" xlink:href=\"#DejaVuSans-2e\"/>\n       <use x=\"159.033203\" xlink:href=\"#DejaVuSans-38\"/>\n       <use x=\"222.65625\" xlink:href=\"#DejaVuSans-34\"/>\n      </g>\n     </g>\n    </g>\n   </g>\n   <g id=\"matplotlib.axis_2\">\n    <g id=\"ytick_1\">\n     <g id=\"line2d_9\">\n      <defs>\n       <path d=\"M 0 0 \nL -3.5 0 \n\" id=\"m997e8db15c\" style=\"stroke:#000000;stroke-width:0.8;\"/>\n      </defs>\n      <g>\n       <use style=\"stroke:#000000;stroke-width:0.8;\" x=\"42.828125\" xlink:href=\"#m997e8db15c\" y=\"203.15743\"/>\n      </g>\n     </g>\n     <g id=\"text_9\">\n      <!-- 37.50 -->\n      <g transform=\"translate(7.2 206.956649)scale(0.1 -0.1)\">\n       <defs>\n        <path d=\"M 2597 2516 \nQ 3050 2419 3304 2112 \nQ 3559 1806 3559 1356 \nQ 3559 666 3084 287 \nQ 2609 -91 1734 -91 \nQ 1441 -91 1130 -33 \nQ 819 25 488 141 \nL 488 750 \nQ 750 597 1062 519 \nQ 1375 441 1716 441 \nQ 2309 441 2620 675 \nQ 2931 909 2931 1356 \nQ 2931 1769 2642 2001 \nQ 2353 2234 1838 2234 \nL 1294 2234 \nL 1294 2753 \nL 1863 2753 \nQ 2328 2753 2575 2939 \nQ 2822 3125 2822 3475 \nQ 2822 3834 2567 4026 \nQ 2313 4219 1838 4219 \nQ 1578 4219 1281 4162 \nQ 984 4106 628 3988 \nL 628 4550 \nQ 988 4650 1302 4700 \nQ 1616 4750 1894 4750 \nQ 2613 4750 3031 4423 \nQ 3450 4097 3450 3541 \nQ 3450 3153 3228 2886 \nQ 3006 2619 2597 2516 \nz\n\" id=\"DejaVuSans-33\" transform=\"scale(0.015625)\"/>\n       </defs>\n       <use xlink:href=\"#DejaVuSans-33\"/>\n       <use x=\"63.623047\" xlink:href=\"#DejaVuSans-37\"/>\n       <use x=\"127.246094\" xlink:href=\"#DejaVuSans-2e\"/>\n       <use x=\"159.033203\" xlink:href=\"#DejaVuSans-35\"/>\n       <use x=\"222.65625\" xlink:href=\"#DejaVuSans-30\"/>\n      </g>\n     </g>\n    </g>\n    <g id=\"ytick_2\">\n     <g id=\"line2d_10\">\n      <g>\n       <use style=\"stroke:#000000;stroke-width:0.8;\" x=\"42.828125\" xlink:href=\"#m997e8db15c\" y=\"164.999781\"/>\n      </g>\n     </g>\n     <g id=\"text_10\">\n      <!-- 37.55 -->\n      <g transform=\"translate(7.2 168.798999)scale(0.1 -0.1)\">\n       <use xlink:href=\"#DejaVuSans-33\"/>\n       <use x=\"63.623047\" xlink:href=\"#DejaVuSans-37\"/>\n       <use x=\"127.246094\" xlink:href=\"#DejaVuSans-2e\"/>\n       <use x=\"159.033203\" xlink:href=\"#DejaVuSans-35\"/>\n       <use x=\"222.65625\" xlink:href=\"#DejaVuSans-35\"/>\n      </g>\n     </g>\n    </g>\n    <g id=\"ytick_3\">\n     <g id=\"line2d_11\">\n      <g>\n       <use style=\"stroke:#000000;stroke-width:0.8;\" x=\"42.828125\" xlink:href=\"#m997e8db15c\" y=\"126.842131\"/>\n      </g>\n     </g>\n     <g id=\"text_11\">\n      <!-- 37.60 -->\n      <g transform=\"translate(7.2 130.64135)scale(0.1 -0.1)\">\n       <use xlink:href=\"#DejaVuSans-33\"/>\n       <use x=\"63.623047\" xlink:href=\"#DejaVuSans-37\"/>\n       <use x=\"127.246094\" xlink:href=\"#DejaVuSans-2e\"/>\n       <use x=\"159.033203\" xlink:href=\"#DejaVuSans-36\"/>\n       <use x=\"222.65625\" xlink:href=\"#DejaVuSans-30\"/>\n      </g>\n     </g>\n    </g>\n    <g id=\"ytick_4\">\n     <g id=\"line2d_12\">\n      <g>\n       <use style=\"stroke:#000000;stroke-width:0.8;\" x=\"42.828125\" xlink:href=\"#m997e8db15c\" y=\"88.684482\"/>\n      </g>\n     </g>\n     <g id=\"text_12\">\n      <!-- 37.65 -->\n      <g transform=\"translate(7.2 92.4837)scale(0.1 -0.1)\">\n       <use xlink:href=\"#DejaVuSans-33\"/>\n       <use x=\"63.623047\" xlink:href=\"#DejaVuSans-37\"/>\n       <use x=\"127.246094\" xlink:href=\"#DejaVuSans-2e\"/>\n       <use x=\"159.033203\" xlink:href=\"#DejaVuSans-36\"/>\n       <use x=\"222.65625\" xlink:href=\"#DejaVuSans-35\"/>\n      </g>\n     </g>\n    </g>\n    <g id=\"ytick_5\">\n     <g id=\"line2d_13\">\n      <g>\n       <use style=\"stroke:#000000;stroke-width:0.8;\" x=\"42.828125\" xlink:href=\"#m997e8db15c\" y=\"50.526832\"/>\n      </g>\n     </g>\n     <g id=\"text_13\">\n      <!-- 37.70 -->\n      <g transform=\"translate(7.2 54.326051)scale(0.1 -0.1)\">\n       <use xlink:href=\"#DejaVuSans-33\"/>\n       <use x=\"63.623047\" xlink:href=\"#DejaVuSans-37\"/>\n       <use x=\"127.246094\" xlink:href=\"#DejaVuSans-2e\"/>\n       <use x=\"159.033203\" xlink:href=\"#DejaVuSans-37\"/>\n       <use x=\"222.65625\" xlink:href=\"#DejaVuSans-30\"/>\n      </g>\n     </g>\n    </g>\n    <g id=\"ytick_6\">\n     <g id=\"line2d_14\">\n      <g>\n       <use style=\"stroke:#000000;stroke-width:0.8;\" x=\"42.828125\" xlink:href=\"#m997e8db15c\" y=\"12.369182\"/>\n      </g>\n     </g>\n     <g id=\"text_14\">\n      <!-- 37.75 -->\n      <g transform=\"translate(7.2 16.168401)scale(0.1 -0.1)\">\n       <use xlink:href=\"#DejaVuSans-33\"/>\n       <use x=\"63.623047\" xlink:href=\"#DejaVuSans-37\"/>\n       <use x=\"127.246094\" xlink:href=\"#DejaVuSans-2e\"/>\n       <use x=\"159.033203\" xlink:href=\"#DejaVuSans-37\"/>\n       <use x=\"222.65625\" xlink:href=\"#DejaVuSans-35\"/>\n      </g>\n     </g>\n    </g>\n   </g>\n   <g id=\"patch_3\">\n    <path d=\"M 42.828125 224.64 \nL 42.828125 7.2 \n\" style=\"fill:none;stroke:#000000;stroke-linecap:square;stroke-linejoin:miter;stroke-width:0.8;\"/>\n   </g>\n   <g id=\"patch_4\">\n    <path d=\"M 377.628125 224.64 \nL 377.628125 7.2 \n\" style=\"fill:none;stroke:#000000;stroke-linecap:square;stroke-linejoin:miter;stroke-width:0.8;\"/>\n   </g>\n   <g id=\"patch_5\">\n    <path d=\"M 42.828125 224.64 \nL 377.628125 224.64 \n\" style=\"fill:none;stroke:#000000;stroke-linecap:square;stroke-linejoin:miter;stroke-width:0.8;\"/>\n   </g>\n   <g id=\"patch_6\">\n    <path d=\"M 42.828125 7.2 \nL 377.628125 7.2 \n\" style=\"fill:none;stroke:#000000;stroke-linecap:square;stroke-linejoin:miter;stroke-width:0.8;\"/>\n   </g>\n  </g>\n </g>\n <defs>\n  <clipPath id=\"p52db53b585\">\n   <rect height=\"217.44\" width=\"334.8\" x=\"42.828125\" y=\"7.2\"/>\n  </clipPath>\n </defs>\n</svg>\n",
      "image/png": "[encoded data removed]"
     },
     "metadata": {
      "needs_background": "light"
     }
    }
   ],
   "source": [
    "import matplotlib.pyplot as plt\n",
    "plt.scatter(x=metro_stations['N_cat'], y=metro_stations['E_cat'])\n",
    "plt.scatter(x=moskwa[0], y=moskwa[1])\n",
    "plt.show()"
   ]
  },
  {
   "cell_type": "code",
   "execution_count": 361,
   "metadata": {},
   "outputs": [],
   "source": [
    "#moskwa jako środek układu współżednych: \n",
    "metro_stations['latitude'] = [(l - moskwa[0])*10 for l in metro_stations['N_cat']]\n",
    "metro_stations['longitude'] = [(l - moskwa[1])* 10 for l in metro_stations['E_cat']]"
   ]
  },
  {
   "cell_type": "code",
   "execution_count": 362,
   "metadata": {},
   "outputs": [
    {
     "output_type": "display_data",
     "data": {
      "text/plain": "<Figure size 432x288 with 1 Axes>",
      "image/svg+xml": "<?xml version=\"1.0\" encoding=\"utf-8\" standalone=\"no\"?>\n<!DOCTYPE svg PUBLIC \"-//W3C//DTD SVG 1.1//EN\"\n  \"http://www.w3.org/Graphics/SVG/1.1/DTD/svg11.dtd\">\n<svg height=\"248.518125pt\" version=\"1.1\" viewBox=\"0 0 380.482812 248.518125\" width=\"380.482812pt\" xmlns=\"http://www.w3.org/2000/svg\" xmlns:xlink=\"http://www.w3.org/1999/xlink\">\n <metadata>\n  <rdf:RDF xmlns:cc=\"http://creativecommons.org/ns#\" xmlns:dc=\"http://purl.org/dc/elements/1.1/\" xmlns:rdf=\"http://www.w3.org/1999/02/22-rdf-syntax-ns#\">\n   <cc:Work>\n    <dc:type rdf:resource=\"http://purl.org/dc/dcmitype/StillImage\"/>\n    <dc:date>2021-04-24T16:43:06.261179</dc:date>\n    <dc:format>image/svg+xml</dc:format>\n    <dc:creator>\n     <cc:Agent>\n      <dc:title>Matplotlib v3.4.1, https://matplotlib.org/</dc:title>\n     </cc:Agent>\n    </dc:creator>\n   </cc:Work>\n  </rdf:RDF>\n </metadata>\n <defs>\n  <style type=\"text/css\">*{stroke-linecap:butt;stroke-linejoin:round;}</style>\n </defs>\n <g id=\"figure_1\">\n  <g id=\"patch_1\">\n   <path d=\"M -0 248.518125 \nL 380.482812 248.518125 \nL 380.482812 0 \nL -0 0 \nz\n\" style=\"fill:none;\"/>\n  </g>\n  <g id=\"axes_1\">\n   <g id=\"patch_2\">\n    <path d=\"M 38.482813 224.64 \nL 373.282813 224.64 \nL 373.282813 7.2 \nL 38.482813 7.2 \nz\n\" style=\"fill:#ffffff;\"/>\n   </g>\n   <g id=\"PathCollection_1\">\n    <defs>\n     <path d=\"M 0 3 \nC 0.795609 3 1.55874 2.683901 2.12132 2.12132 \nC 2.683901 1.55874 3 0.795609 3 0 \nC 3 -0.795609 2.683901 -1.55874 2.12132 -2.12132 \nC 1.55874 -2.683901 0.795609 -3 0 -3 \nC -0.795609 -3 -1.55874 -2.683901 -2.12132 -2.12132 \nC -2.683901 -1.55874 -3 -0.795609 -3 0 \nC -3 0.795609 -2.683901 1.55874 -2.12132 2.12132 \nC -1.55874 2.683901 -0.795609 3 0 3 \nz\n\" id=\"mdb7f5d3084\" style=\"stroke:#1f77b4;\"/>\n    </defs>\n    <g clip-path=\"url(#pb42ce63cc9)\">\n     <use style=\"fill:#1f77b4;stroke:#1f77b4;\" x=\"53.700994\" xlink:href=\"#mdb7f5d3084\" y=\"124.534891\"/>\n     <use style=\"fill:#1f77b4;stroke:#1f77b4;\" x=\"148.965256\" xlink:href=\"#mdb7f5d3084\" y=\"178.554675\"/>\n     <use style=\"fill:#1f77b4;stroke:#1f77b4;\" x=\"186.000442\" xlink:href=\"#mdb7f5d3084\" y=\"187.568046\"/>\n     <use style=\"fill:#1f77b4;stroke:#1f77b4;\" x=\"112.977982\" xlink:href=\"#mdb7f5d3084\" y=\"158.995827\"/>\n     <use style=\"fill:#1f77b4;stroke:#1f77b4;\" x=\"329.502211\" xlink:href=\"#mdb7f5d3084\" y=\"195.854209\"/>\n     <use style=\"fill:#1f77b4;stroke:#1f77b4;\" x=\"220.499182\" xlink:href=\"#mdb7f5d3084\" y=\"199.162095\"/>\n     <use style=\"fill:#1f77b4;stroke:#1f77b4;\" x=\"69.030787\" xlink:href=\"#mdb7f5d3084\" y=\"92.068073\"/>\n     <use style=\"fill:#1f77b4;stroke:#1f77b4;\" x=\"185.709249\" xlink:href=\"#mdb7f5d3084\" y=\"17.083636\"/>\n     <use style=\"fill:#1f77b4;stroke:#1f77b4;\" x=\"134.463065\" xlink:href=\"#mdb7f5d3084\" y=\"30.738885\"/>\n     <use style=\"fill:#1f77b4;stroke:#1f77b4;\" x=\"105.827655\" xlink:href=\"#mdb7f5d3084\" y=\"55.009593\"/>\n     <use style=\"fill:#1f77b4;stroke:#1f77b4;\" x=\"352.651693\" xlink:href=\"#mdb7f5d3084\" y=\"136.663223\"/>\n     <use style=\"fill:#1f77b4;stroke:#1f77b4;\" x=\"352.876218\" xlink:href=\"#mdb7f5d3084\" y=\"148.355414\"/>\n     <use style=\"fill:#1f77b4;stroke:#1f77b4;\" x=\"351.816811\" xlink:href=\"#mdb7f5d3084\" y=\"98.205273\"/>\n     <use style=\"fill:#1f77b4;stroke:#1f77b4;\" x=\"311.538843\" xlink:href=\"#mdb7f5d3084\" y=\"208.583982\"/>\n     <use style=\"fill:#1f77b4;stroke:#1f77b4;\" x=\"243.213407\" xlink:href=\"#mdb7f5d3084\" y=\"201.823591\"/>\n     <use style=\"fill:#1f77b4;stroke:#1f77b4;\" x=\"346.549469\" xlink:href=\"#mdb7f5d3084\" y=\"78.691527\"/>\n     <use style=\"fill:#1f77b4;stroke:#1f77b4;\" x=\"270.726765\" xlink:href=\"#mdb7f5d3084\" y=\"17.604565\"/>\n     <use style=\"fill:#1f77b4;stroke:#1f77b4;\" x=\"164.380875\" xlink:href=\"#mdb7f5d3084\" y=\"180.410663\"/>\n     <use style=\"fill:#1f77b4;stroke:#1f77b4;\" x=\"160.807052\" xlink:href=\"#mdb7f5d3084\" y=\"23.333554\"/>\n     <use style=\"fill:#1f77b4;stroke:#1f77b4;\" x=\"118.859512\" xlink:href=\"#mdb7f5d3084\" y=\"39.55605\"/>\n     <use style=\"fill:#1f77b4;stroke:#1f77b4;\" x=\"209.866605\" xlink:href=\"#mdb7f5d3084\" y=\"17.766887\"/>\n     <use style=\"fill:#1f77b4;stroke:#1f77b4;\" x=\"290.745727\" xlink:href=\"#mdb7f5d3084\" y=\"214.756364\"/>\n     <use style=\"fill:#1f77b4;stroke:#1f77b4;\" x=\"86.270579\" xlink:href=\"#mdb7f5d3084\" y=\"138.966114\"/>\n     <use style=\"fill:#1f77b4;stroke:#1f77b4;\" x=\"358.064631\" xlink:href=\"#mdb7f5d3084\" y=\"149.784265\"/>\n     <use style=\"fill:#1f77b4;stroke:#1f77b4;\" x=\"262.557644\" xlink:href=\"#mdb7f5d3084\" y=\"205.654085\"/>\n     <use style=\"fill:#1f77b4;stroke:#1f77b4;\" x=\"53.94621\" xlink:href=\"#mdb7f5d3084\" y=\"114.223167\"/>\n     <use style=\"fill:#1f77b4;stroke:#1f77b4;\" x=\"97.097413\" xlink:href=\"#mdb7f5d3084\" y=\"69.217975\"/>\n     <use style=\"fill:#1f77b4;stroke:#1f77b4;\" x=\"297.433594\" xlink:href=\"#mdb7f5d3084\" y=\"24.003908\"/>\n     <use style=\"fill:#1f77b4;stroke:#1f77b4;\" x=\"85.366347\" xlink:href=\"#mdb7f5d3084\" y=\"80.130834\"/>\n     <use style=\"fill:#1f77b4;stroke:#1f77b4;\" x=\"311.82448\" xlink:href=\"#mdb7f5d3084\" y=\"55.468858\"/>\n     <use style=\"fill:#1f77b4;stroke:#1f77b4;\" x=\"242.387912\" xlink:href=\"#mdb7f5d3084\" y=\"18.235005\"/>\n    </g>\n   </g>\n   <g id=\"PathCollection_2\">\n    <defs>\n     <path d=\"M 0 3 \nC 0.795609 3 1.55874 2.683901 2.12132 2.12132 \nC 2.683901 1.55874 3 0.795609 3 0 \nC 3 -0.795609 2.683901 -1.55874 2.12132 -2.12132 \nC 1.55874 -2.683901 0.795609 -3 0 -3 \nC -0.795609 -3 -1.55874 -2.683901 -2.12132 -2.12132 \nC -2.683901 -1.55874 -3 -0.795609 -3 0 \nC -3 0.795609 -2.683901 1.55874 -2.12132 2.12132 \nC -1.55874 2.683901 -0.795609 3 0 3 \nz\n\" id=\"m1a93d1fc8c\" style=\"stroke:#ff7f0e;\"/>\n    </defs>\n    <g clip-path=\"url(#pb42ce63cc9)\">\n     <use style=\"fill:#ff7f0e;stroke:#ff7f0e;\" x=\"171.036557\" xlink:href=\"#m1a93d1fc8c\" y=\"112.782564\"/>\n    </g>\n   </g>\n   <g id=\"matplotlib.axis_1\">\n    <g id=\"xtick_1\">\n     <g id=\"line2d_1\">\n      <defs>\n       <path d=\"M 0 0 \nL 0 3.5 \n\" id=\"m1ce451a61c\" style=\"stroke:#000000;stroke-width:0.8;\"/>\n      </defs>\n      <g>\n       <use style=\"stroke:#000000;stroke-width:0.8;\" x=\"56.091844\" xlink:href=\"#m1ce451a61c\" y=\"224.64\"/>\n      </g>\n     </g>\n     <g id=\"text_1\">\n      <!-- −0.6 -->\n      <g transform=\"translate(43.950438 239.238437)scale(0.1 -0.1)\">\n       <defs>\n        <path d=\"M 678 2272 \nL 4684 2272 \nL 4684 1741 \nL 678 1741 \nL 678 2272 \nz\n\" id=\"DejaVuSans-2212\" transform=\"scale(0.015625)\"/>\n        <path d=\"M 2034 4250 \nQ 1547 4250 1301 3770 \nQ 1056 3291 1056 2328 \nQ 1056 1369 1301 889 \nQ 1547 409 2034 409 \nQ 2525 409 2770 889 \nQ 3016 1369 3016 2328 \nQ 3016 3291 2770 3770 \nQ 2525 4250 2034 4250 \nz\nM 2034 4750 \nQ 2819 4750 3233 4129 \nQ 3647 3509 3647 2328 \nQ 3647 1150 3233 529 \nQ 2819 -91 2034 -91 \nQ 1250 -91 836 529 \nQ 422 1150 422 2328 \nQ 422 3509 836 4129 \nQ 1250 4750 2034 4750 \nz\n\" id=\"DejaVuSans-30\" transform=\"scale(0.015625)\"/>\n        <path d=\"M 684 794 \nL 1344 794 \nL 1344 0 \nL 684 0 \nL 684 794 \nz\n\" id=\"DejaVuSans-2e\" transform=\"scale(0.015625)\"/>\n        <path d=\"M 2113 2584 \nQ 1688 2584 1439 2293 \nQ 1191 2003 1191 1497 \nQ 1191 994 1439 701 \nQ 1688 409 2113 409 \nQ 2538 409 2786 701 \nQ 3034 994 3034 1497 \nQ 3034 2003 2786 2293 \nQ 2538 2584 2113 2584 \nz\nM 3366 4563 \nL 3366 3988 \nQ 3128 4100 2886 4159 \nQ 2644 4219 2406 4219 \nQ 1781 4219 1451 3797 \nQ 1122 3375 1075 2522 \nQ 1259 2794 1537 2939 \nQ 1816 3084 2150 3084 \nQ 2853 3084 3261 2657 \nQ 3669 2231 3669 1497 \nQ 3669 778 3244 343 \nQ 2819 -91 2113 -91 \nQ 1303 -91 875 529 \nQ 447 1150 447 2328 \nQ 447 3434 972 4092 \nQ 1497 4750 2381 4750 \nQ 2619 4750 2861 4703 \nQ 3103 4656 3366 4563 \nz\n\" id=\"DejaVuSans-36\" transform=\"scale(0.015625)\"/>\n       </defs>\n       <use xlink:href=\"#DejaVuSans-2212\"/>\n       <use x=\"83.789062\" xlink:href=\"#DejaVuSans-30\"/>\n       <use x=\"147.412109\" xlink:href=\"#DejaVuSans-2e\"/>\n       <use x=\"179.199219\" xlink:href=\"#DejaVuSans-36\"/>\n      </g>\n     </g>\n    </g>\n    <g id=\"xtick_2\">\n     <g id=\"line2d_2\">\n      <g>\n       <use style=\"stroke:#000000;stroke-width:0.8;\" x=\"94.406748\" xlink:href=\"#m1ce451a61c\" y=\"224.64\"/>\n      </g>\n     </g>\n     <g id=\"text_2\">\n      <!-- −0.4 -->\n      <g transform=\"translate(82.265342 239.238437)scale(0.1 -0.1)\">\n       <defs>\n        <path d=\"M 2419 4116 \nL 825 1625 \nL 2419 1625 \nL 2419 4116 \nz\nM 2253 4666 \nL 3047 4666 \nL 3047 1625 \nL 3713 1625 \nL 3713 1100 \nL 3047 1100 \nL 3047 0 \nL 2419 0 \nL 2419 1100 \nL 313 1100 \nL 313 1709 \nL 2253 4666 \nz\n\" id=\"DejaVuSans-34\" transform=\"scale(0.015625)\"/>\n       </defs>\n       <use xlink:href=\"#DejaVuSans-2212\"/>\n       <use x=\"83.789062\" xlink:href=\"#DejaVuSans-30\"/>\n       <use x=\"147.412109\" xlink:href=\"#DejaVuSans-2e\"/>\n       <use x=\"179.199219\" xlink:href=\"#DejaVuSans-34\"/>\n      </g>\n     </g>\n    </g>\n    <g id=\"xtick_3\">\n     <g id=\"line2d_3\">\n      <g>\n       <use style=\"stroke:#000000;stroke-width:0.8;\" x=\"132.721653\" xlink:href=\"#m1ce451a61c\" y=\"224.64\"/>\n      </g>\n     </g>\n     <g id=\"text_3\">\n      <!-- −0.2 -->\n      <g transform=\"translate(120.580246 239.238437)scale(0.1 -0.1)\">\n       <defs>\n        <path d=\"M 1228 531 \nL 3431 531 \nL 3431 0 \nL 469 0 \nL 469 531 \nQ 828 903 1448 1529 \nQ 2069 2156 2228 2338 \nQ 2531 2678 2651 2914 \nQ 2772 3150 2772 3378 \nQ 2772 3750 2511 3984 \nQ 2250 4219 1831 4219 \nQ 1534 4219 1204 4116 \nQ 875 4013 500 3803 \nL 500 4441 \nQ 881 4594 1212 4672 \nQ 1544 4750 1819 4750 \nQ 2544 4750 2975 4387 \nQ 3406 4025 3406 3419 \nQ 3406 3131 3298 2873 \nQ 3191 2616 2906 2266 \nQ 2828 2175 2409 1742 \nQ 1991 1309 1228 531 \nz\n\" id=\"DejaVuSans-32\" transform=\"scale(0.015625)\"/>\n       </defs>\n       <use xlink:href=\"#DejaVuSans-2212\"/>\n       <use x=\"83.789062\" xlink:href=\"#DejaVuSans-30\"/>\n       <use x=\"147.412109\" xlink:href=\"#DejaVuSans-2e\"/>\n       <use x=\"179.199219\" xlink:href=\"#DejaVuSans-32\"/>\n      </g>\n     </g>\n    </g>\n    <g id=\"xtick_4\">\n     <g id=\"line2d_4\">\n      <g>\n       <use style=\"stroke:#000000;stroke-width:0.8;\" x=\"171.036557\" xlink:href=\"#m1ce451a61c\" y=\"224.64\"/>\n      </g>\n     </g>\n     <g id=\"text_4\">\n      <!-- 0.0 -->\n      <g transform=\"translate(163.084994 239.238437)scale(0.1 -0.1)\">\n       <use xlink:href=\"#DejaVuSans-30\"/>\n       <use x=\"63.623047\" xlink:href=\"#DejaVuSans-2e\"/>\n       <use x=\"95.410156\" xlink:href=\"#DejaVuSans-30\"/>\n      </g>\n     </g>\n    </g>\n    <g id=\"xtick_5\">\n     <g id=\"line2d_5\">\n      <g>\n       <use style=\"stroke:#000000;stroke-width:0.8;\" x=\"209.351461\" xlink:href=\"#m1ce451a61c\" y=\"224.64\"/>\n      </g>\n     </g>\n     <g id=\"text_5\">\n      <!-- 0.2 -->\n      <g transform=\"translate(201.399898 239.238437)scale(0.1 -0.1)\">\n       <use xlink:href=\"#DejaVuSans-30\"/>\n       <use x=\"63.623047\" xlink:href=\"#DejaVuSans-2e\"/>\n       <use x=\"95.410156\" xlink:href=\"#DejaVuSans-32\"/>\n      </g>\n     </g>\n    </g>\n    <g id=\"xtick_6\">\n     <g id=\"line2d_6\">\n      <g>\n       <use style=\"stroke:#000000;stroke-width:0.8;\" x=\"247.666365\" xlink:href=\"#m1ce451a61c\" y=\"224.64\"/>\n      </g>\n     </g>\n     <g id=\"text_6\">\n      <!-- 0.4 -->\n      <g transform=\"translate(239.714802 239.238437)scale(0.1 -0.1)\">\n       <use xlink:href=\"#DejaVuSans-30\"/>\n       <use x=\"63.623047\" xlink:href=\"#DejaVuSans-2e\"/>\n       <use x=\"95.410156\" xlink:href=\"#DejaVuSans-34\"/>\n      </g>\n     </g>\n    </g>\n    <g id=\"xtick_7\">\n     <g id=\"line2d_7\">\n      <g>\n       <use style=\"stroke:#000000;stroke-width:0.8;\" x=\"285.981269\" xlink:href=\"#m1ce451a61c\" y=\"224.64\"/>\n      </g>\n     </g>\n     <g id=\"text_7\">\n      <!-- 0.6 -->\n      <g transform=\"translate(278.029706 239.238437)scale(0.1 -0.1)\">\n       <use xlink:href=\"#DejaVuSans-30\"/>\n       <use x=\"63.623047\" xlink:href=\"#DejaVuSans-2e\"/>\n       <use x=\"95.410156\" xlink:href=\"#DejaVuSans-36\"/>\n      </g>\n     </g>\n    </g>\n    <g id=\"xtick_8\">\n     <g id=\"line2d_8\">\n      <g>\n       <use style=\"stroke:#000000;stroke-width:0.8;\" x=\"324.296173\" xlink:href=\"#m1ce451a61c\" y=\"224.64\"/>\n      </g>\n     </g>\n     <g id=\"text_8\">\n      <!-- 0.8 -->\n      <g transform=\"translate(316.344611 239.238437)scale(0.1 -0.1)\">\n       <defs>\n        <path d=\"M 2034 2216 \nQ 1584 2216 1326 1975 \nQ 1069 1734 1069 1313 \nQ 1069 891 1326 650 \nQ 1584 409 2034 409 \nQ 2484 409 2743 651 \nQ 3003 894 3003 1313 \nQ 3003 1734 2745 1975 \nQ 2488 2216 2034 2216 \nz\nM 1403 2484 \nQ 997 2584 770 2862 \nQ 544 3141 544 3541 \nQ 544 4100 942 4425 \nQ 1341 4750 2034 4750 \nQ 2731 4750 3128 4425 \nQ 3525 4100 3525 3541 \nQ 3525 3141 3298 2862 \nQ 3072 2584 2669 2484 \nQ 3125 2378 3379 2068 \nQ 3634 1759 3634 1313 \nQ 3634 634 3220 271 \nQ 2806 -91 2034 -91 \nQ 1263 -91 848 271 \nQ 434 634 434 1313 \nQ 434 1759 690 2068 \nQ 947 2378 1403 2484 \nz\nM 1172 3481 \nQ 1172 3119 1398 2916 \nQ 1625 2713 2034 2713 \nQ 2441 2713 2670 2916 \nQ 2900 3119 2900 3481 \nQ 2900 3844 2670 4047 \nQ 2441 4250 2034 4250 \nQ 1625 4250 1398 4047 \nQ 1172 3844 1172 3481 \nz\n\" id=\"DejaVuSans-38\" transform=\"scale(0.015625)\"/>\n       </defs>\n       <use xlink:href=\"#DejaVuSans-30\"/>\n       <use x=\"63.623047\" xlink:href=\"#DejaVuSans-2e\"/>\n       <use x=\"95.410156\" xlink:href=\"#DejaVuSans-38\"/>\n      </g>\n     </g>\n    </g>\n    <g id=\"xtick_9\">\n     <g id=\"line2d_9\">\n      <g>\n       <use style=\"stroke:#000000;stroke-width:0.8;\" x=\"362.611077\" xlink:href=\"#m1ce451a61c\" y=\"224.64\"/>\n      </g>\n     </g>\n     <g id=\"text_9\">\n      <!-- 1.0 -->\n      <g transform=\"translate(354.659515 239.238437)scale(0.1 -0.1)\">\n       <defs>\n        <path d=\"M 794 531 \nL 1825 531 \nL 1825 4091 \nL 703 3866 \nL 703 4441 \nL 1819 4666 \nL 2450 4666 \nL 2450 531 \nL 3481 531 \nL 3481 0 \nL 794 0 \nL 794 531 \nz\n\" id=\"DejaVuSans-31\" transform=\"scale(0.015625)\"/>\n       </defs>\n       <use xlink:href=\"#DejaVuSans-31\"/>\n       <use x=\"63.623047\" xlink:href=\"#DejaVuSans-2e\"/>\n       <use x=\"95.410156\" xlink:href=\"#DejaVuSans-30\"/>\n      </g>\n     </g>\n    </g>\n   </g>\n   <g id=\"matplotlib.axis_2\">\n    <g id=\"ytick_1\">\n     <g id=\"line2d_10\">\n      <defs>\n       <path d=\"M 0 0 \nL -3.5 0 \n\" id=\"mc98e63ef3a\" style=\"stroke:#000000;stroke-width:0.8;\"/>\n      </defs>\n      <g>\n       <use style=\"stroke:#000000;stroke-width:0.8;\" x=\"38.482813\" xlink:href=\"#mc98e63ef3a\" y=\"189.097863\"/>\n      </g>\n     </g>\n     <g id=\"text_10\">\n      <!-- −1.0 -->\n      <g transform=\"translate(7.2 192.897081)scale(0.1 -0.1)\">\n       <use xlink:href=\"#DejaVuSans-2212\"/>\n       <use x=\"83.789062\" xlink:href=\"#DejaVuSans-31\"/>\n       <use x=\"147.412109\" xlink:href=\"#DejaVuSans-2e\"/>\n       <use x=\"179.199219\" xlink:href=\"#DejaVuSans-30\"/>\n      </g>\n     </g>\n    </g>\n    <g id=\"ytick_2\">\n     <g id=\"line2d_11\">\n      <g>\n       <use style=\"stroke:#000000;stroke-width:0.8;\" x=\"38.482813\" xlink:href=\"#mc98e63ef3a\" y=\"150.940213\"/>\n      </g>\n     </g>\n     <g id=\"text_11\">\n      <!-- −0.5 -->\n      <g transform=\"translate(7.2 154.739432)scale(0.1 -0.1)\">\n       <defs>\n        <path d=\"M 691 4666 \nL 3169 4666 \nL 3169 4134 \nL 1269 4134 \nL 1269 2991 \nQ 1406 3038 1543 3061 \nQ 1681 3084 1819 3084 \nQ 2600 3084 3056 2656 \nQ 3513 2228 3513 1497 \nQ 3513 744 3044 326 \nQ 2575 -91 1722 -91 \nQ 1428 -91 1123 -41 \nQ 819 9 494 109 \nL 494 744 \nQ 775 591 1075 516 \nQ 1375 441 1709 441 \nQ 2250 441 2565 725 \nQ 2881 1009 2881 1497 \nQ 2881 1984 2565 2268 \nQ 2250 2553 1709 2553 \nQ 1456 2553 1204 2497 \nQ 953 2441 691 2322 \nL 691 4666 \nz\n\" id=\"DejaVuSans-35\" transform=\"scale(0.015625)\"/>\n       </defs>\n       <use xlink:href=\"#DejaVuSans-2212\"/>\n       <use x=\"83.789062\" xlink:href=\"#DejaVuSans-30\"/>\n       <use x=\"147.412109\" xlink:href=\"#DejaVuSans-2e\"/>\n       <use x=\"179.199219\" xlink:href=\"#DejaVuSans-35\"/>\n      </g>\n     </g>\n    </g>\n    <g id=\"ytick_3\">\n     <g id=\"line2d_12\">\n      <g>\n       <use style=\"stroke:#000000;stroke-width:0.8;\" x=\"38.482813\" xlink:href=\"#mc98e63ef3a\" y=\"112.782564\"/>\n      </g>\n     </g>\n     <g id=\"text_12\">\n      <!-- 0.0 -->\n      <g transform=\"translate(15.579688 116.581782)scale(0.1 -0.1)\">\n       <use xlink:href=\"#DejaVuSans-30\"/>\n       <use x=\"63.623047\" xlink:href=\"#DejaVuSans-2e\"/>\n       <use x=\"95.410156\" xlink:href=\"#DejaVuSans-30\"/>\n      </g>\n     </g>\n    </g>\n    <g id=\"ytick_4\">\n     <g id=\"line2d_13\">\n      <g>\n       <use style=\"stroke:#000000;stroke-width:0.8;\" x=\"38.482813\" xlink:href=\"#mc98e63ef3a\" y=\"74.624914\"/>\n      </g>\n     </g>\n     <g id=\"text_13\">\n      <!-- 0.5 -->\n      <g transform=\"translate(15.579688 78.424133)scale(0.1 -0.1)\">\n       <use xlink:href=\"#DejaVuSans-30\"/>\n       <use x=\"63.623047\" xlink:href=\"#DejaVuSans-2e\"/>\n       <use x=\"95.410156\" xlink:href=\"#DejaVuSans-35\"/>\n      </g>\n     </g>\n    </g>\n    <g id=\"ytick_5\">\n     <g id=\"line2d_14\">\n      <g>\n       <use style=\"stroke:#000000;stroke-width:0.8;\" x=\"38.482813\" xlink:href=\"#mc98e63ef3a\" y=\"36.467264\"/>\n      </g>\n     </g>\n     <g id=\"text_14\">\n      <!-- 1.0 -->\n      <g transform=\"translate(15.579688 40.266483)scale(0.1 -0.1)\">\n       <use xlink:href=\"#DejaVuSans-31\"/>\n       <use x=\"63.623047\" xlink:href=\"#DejaVuSans-2e\"/>\n       <use x=\"95.410156\" xlink:href=\"#DejaVuSans-30\"/>\n      </g>\n     </g>\n    </g>\n   </g>\n   <g id=\"patch_3\">\n    <path d=\"M 38.482813 224.64 \nL 38.482813 7.2 \n\" style=\"fill:none;stroke:#000000;stroke-linecap:square;stroke-linejoin:miter;stroke-width:0.8;\"/>\n   </g>\n   <g id=\"patch_4\">\n    <path d=\"M 373.282813 224.64 \nL 373.282813 7.2 \n\" style=\"fill:none;stroke:#000000;stroke-linecap:square;stroke-linejoin:miter;stroke-width:0.8;\"/>\n   </g>\n   <g id=\"patch_5\">\n    <path d=\"M 38.482812 224.64 \nL 373.282812 224.64 \n\" style=\"fill:none;stroke:#000000;stroke-linecap:square;stroke-linejoin:miter;stroke-width:0.8;\"/>\n   </g>\n   <g id=\"patch_6\">\n    <path d=\"M 38.482812 7.2 \nL 373.282812 7.2 \n\" style=\"fill:none;stroke:#000000;stroke-linecap:square;stroke-linejoin:miter;stroke-width:0.8;\"/>\n   </g>\n  </g>\n </g>\n <defs>\n  <clipPath id=\"pb42ce63cc9\">\n   <rect height=\"217.44\" width=\"334.8\" x=\"38.482813\" y=\"7.2\"/>\n  </clipPath>\n </defs>\n</svg>\n",
      "image/png": "[encoded data removed]"
     },
     "metadata": {
      "needs_background": "light"
     }
    }
   ],
   "source": [
    "plt.scatter(x=metro_stations['latitude'], y=metro_stations['longitude'])\n",
    "plt.scatter(x=0, y=0)\n",
    "plt.show()"
   ]
  },
  {
   "cell_type": "code",
   "execution_count": 363,
   "metadata": {},
   "outputs": [],
   "source": [
    "metro_dict = {} "
   ]
  },
  {
   "cell_type": "code",
   "execution_count": 364,
   "metadata": {},
   "outputs": [],
   "source": [
    "for m,lat,lon in zip(metro_stations['breadcrumbs_MCK'], metro_stations['latitude'],metro_stations['longitude']):\n",
    "    metro_dict[m] = (lat,lon)"
   ]
  },
  {
   "cell_type": "code",
   "execution_count": 365,
   "metadata": {},
   "outputs": [
    {
     "output_type": "execute_result",
     "data": {
      "text/plain": [
       "{'МЦК Крымская': (-0.6124799999999908, -0.15399700000003236),\n",
       " 'МЦК Кутузовская': (-0.11521000000001891, -0.8618469999999689),\n",
       " 'МЦК Шелепиха': (0.07810999999996682, -0.9799540000000206),\n",
       " 'МЦК Лужники': (-0.3030600000000305, -0.6055570000000188),\n",
       " 'МЦК Коптево': (0.8271750000000111, -1.0885319999999865),\n",
       " 'МЦК Хорошёво': (0.2581899999999848, -1.1318769999999745),\n",
       " 'МЦК ЗИЛ': (-0.5324600000000146, 0.2714329999999876),\n",
       " 'МЦК Шоссе Энтузиастов': (0.07658999999996752, 1.2539939999999916),\n",
       " 'МЦК Нижегородская': (-0.19091000000003078, 1.075062000000031),\n",
       " 'МЦК Угрешская': (-0.34038400000000024, 0.7570299999999719),\n",
       " 'МЦК Владыкино': (0.9480130000000031, -0.3129210000000171),\n",
       " 'МЦК Лихоборы': (0.9491849999999857, -0.4661300000000068),\n",
       " 'МЦК Ботанический сад': (0.943655000000021, 0.19101399999996715),\n",
       " 'МЦК Балтийская': (0.7334079999999688, -1.255336999999983),\n",
       " 'МЦК Зорге': (0.3767560000000003, -1.1667520000000309),\n",
       " 'МЦК Ростокино': (0.9161600000000192, 0.44671299999997416),\n",
       " 'МЦК Локомотив': (0.5203730000000206, 1.2471680000000163),\n",
       " 'МЦК Деловой центр': (-0.03474199999999428, -0.8861670000000288),\n",
       " 'МЦК Андроновка': (-0.053397000000003914, 1.172097999999977),\n",
       " 'МЦК Новохохловская': (-0.2723590000000087, 0.9595259999999683),\n",
       " 'МЦК Соколиная Гора': (0.20268899999997814, 1.245041000000029),\n",
       " 'МЦК Стрешнево': (0.624869999999973, -1.3362169999999907),\n",
       " 'МЦК Площадь Гагарина': (-0.44246999999998593, -0.3430970000000144),\n",
       " 'МЦК Окружная': (0.9762680000000046, -0.4848530000000295),\n",
       " 'МЦК Панфиловская': (0.4777310000000057, -1.216944999999967),\n",
       " 'МЦК Верхние Котлы': (-0.6112000000000251, -0.01887699999997494),\n",
       " 'МЦК Дубровка': (-0.3859549999999956, 0.5708500000000072),\n",
       " 'МЦК Бульвар Рокоссовского': (0.659780000000012, 1.1633139999999997),\n",
       " 'МЦК Автозаводская': (-0.4471900000000062, 0.4278529999999847),\n",
       " 'МЦК Белокаменная': (0.7348989999999844, 0.7510119999999887),\n",
       " 'МЦК Измайлово': (0.3724470000000224, 1.2389069999999691)}"
      ]
     },
     "metadata": {},
     "execution_count": 365
    }
   ],
   "source": [
    "metro_dict"
   ]
  },
  {
   "cell_type": "code",
   "execution_count": 334,
   "metadata": {},
   "outputs": [
    {
     "output_type": "execute_result",
     "data": {
      "text/plain": [
       "3"
      ]
     },
     "metadata": {},
     "execution_count": 334
    }
   ],
   "source": [
    "import json\n",
    "with open(\"mo.geojson\") as f:\n",
    "    data = json.load(f)"
   ]
  },
  {
   "cell_type": "code",
   "execution_count": 349,
   "metadata": {
    "tags": []
   },
   "outputs": [],
   "source": [
    "gminy = []\n",
    "okregi = [] \n",
    "latitude = []\n",
    "longitude = []\n",
    "for elem in data['features']: \n",
    "    gminy.append(elem[\"properties\"]['NAME'])\n",
    "    okregi.append(elem[\"properties\"]['NAME_AO'])\n",
    "    if elem[\"geometry\"][\"type\"] == \"MultiPolygon\": \n",
    "        coor = elem[\"geometry\"][\"coordinates\"][0][0]\n",
    "    if elem[\"geometry\"][\"type\"] == \"Polygon\": \n",
    "        coor = elem[\"geometry\"][\"coordinates\"][0]\n",
    "    lat = (np.mean ([e[0] for e in coor]) - moskwa[1]) * 10\n",
    "    lon = (np.mean ([e[1] for e in coor]) - moskwa[0]) * 10 \n",
    "    latitude.append(lat)\n",
    "    longitude.append(lon)\n",
    "\n",
    "gminy_dict = {}\n",
    "for g,lat,lon in zip(gminy,latitude,longitude):\n",
    "    gminy_dict[g] = [lat,lon]"
   ]
  },
  {
   "cell_type": "code",
   "execution_count": 380,
   "metadata": {},
   "outputs": [
    {
     "output_type": "execute_result",
     "data": {
      "text/plain": [
       "{'Киевский': [-7.1140551724138135, -3.592447241379375],\n",
       " 'Филёвский Парк': [-1.4509627433628935, -0.02548955752210702],\n",
       " 'Новофёдоровское': [-6.466144558472564, -3.309073651551273],\n",
       " 'Роговское': [-5.844214636871499, -5.234952290502761],\n",
       " '\"Мосрентген\"': [-1.511642962963009, -1.3029316666666801],\n",
       " 'Вороновское': [-4.8073704958677865, -4.267848471074345],\n",
       " 'Михайлово-Ярцевское': [-4.870186422018321, -3.514045963302692],\n",
       " 'Марушкинское': [-4.264188360655723, -1.7236114754097542],\n",
       " 'Первомайское': [-3.7669622888282817, -2.357037820163441],\n",
       " 'Матушкино': [-4.145783804347829, 2.502375217391304],\n",
       " 'Внуково': [-3.207172940038774, -1.3772092456479612],\n",
       " 'Савёлки': [-3.794947863397553, 2.2913286514886266],\n",
       " 'Внуковское': [-3.2105582094595064, -1.2101349324323962],\n",
       " 'Силино': [-4.3215198550724665, 2.473832463768204],\n",
       " 'Кокошкино': [-4.5681556544503366, -1.5754857242583142],\n",
       " 'Крюково': [-4.375590873786379, 2.0658821359223367],\n",
       " 'Щукино': [-1.4296108823528897, 0.4681960294117715],\n",
       " 'Краснопахорское': [-3.4641369408740275, -3.1619374293058655],\n",
       " 'Нагатинский Затон': [0.5264176190478054, -0.8210479365079237],\n",
       " 'Старое Крюково': [-4.09344590909086, 2.3386872727272134],\n",
       " 'Клёновское': [-2.896848047337315, -4.365745325443768],\n",
       " 'Дмитровский': [-0.8970921428571188, 1.3550007142856657],\n",
       " 'Филимонковское': [-3.0048977500000262, -1.8815952500000321],\n",
       " 'Троицк': [-3.257216011904802, -2.656376904761899],\n",
       " 'Тёплый Стан': [-1.3030894936708393, -1.2086336708861722],\n",
       " 'Щаповское': [-2.3185402209944783, -3.680993038674103],\n",
       " 'Московский': [-2.5173488455008908, -1.3114591850594337],\n",
       " 'Десёновское': [-2.389830340136001, -2.4851828571428314],\n",
       " 'Ховрино': [-1.3206786486486521, 1.1423032432432478],\n",
       " 'Ломоносовский': [-0.7985717391304803, -0.7405660869566333],\n",
       " 'Можайский': [-2.353190426540266, -0.4643824170616284],\n",
       " 'Ново-Переделкино': [-2.6425551724138074, -1.0074320689655991],\n",
       " 'Строгино': [-2.2597672340425845, 0.4569871276594739],\n",
       " 'Молжаниновский': [-2.3744027848101013, 1.9248324683545093],\n",
       " 'Митино': [-2.580249114583424, 1.0379750520832687],\n",
       " 'Куркино': [-2.3961783455882113, 1.4080550367646794],\n",
       " 'Крылатское': [-2.0275455555555766, 0.14834555555545137],\n",
       " 'Солнцево': [-2.2045360869564945, -1.086002318840542],\n",
       " 'Сосенское': [-1.19927986111108, -1.790183472222111],\n",
       " 'Воскресенское': [-1.1943398559078133, -2.328531642651299],\n",
       " 'Головинский': [-1.1544558992805065, 0.9689650359712942],\n",
       " 'Южное Тушино': [-1.9715134080718144, 0.9342173991031189],\n",
       " 'Северное Тушино': [-1.9553067857142281, 1.0403808333333586],\n",
       " 'Черёмушки': [-0.6228080487804277, -0.8426217073171216],\n",
       " 'Покровское-Стрешнево': [-1.7257127956989393, 0.7529626881719764],\n",
       " 'Хорошёво-Мнёвники': [-1.4359142307691997, 0.2326176923077128],\n",
       " 'Очаково-Матвеевское': [-1.6597090149893035, -0.4496464239829123],\n",
       " 'Тропарёво-Никулино': [-1.4050682198953268, -0.8510970680627139],\n",
       " 'Левобережный': [-1.5287759183673444, 1.1660145918367704],\n",
       " 'Фили-Давыдково': [-1.468628679867976, -0.3341538613860706],\n",
       " 'Обручевский': [-0.9732183870967503, -0.9204632258065004],\n",
       " 'Рязановское': [-1.0807044680850453, -2.7453104491725355],\n",
       " 'Раменки': [-1.1468270443349837, -0.5493478817733433],\n",
       " 'Войковский': [-1.205702058823519, 0.7659879411765047],\n",
       " 'Сокол': [-1.0959598701298745, 0.5332132467533057],\n",
       " 'Западное Дегунино': [-0.9940763414634546, 1.2434321951219829],\n",
       " 'Проспект Вернадского': [-1.2416262686566881, -0.7279213432835974],\n",
       " 'Южное Бутово': [-1.064900136108875, -2.248217902321983],\n",
       " 'Ясенево': [-0.6404631592688759, -1.350855143603198],\n",
       " 'Дорогомилово': [-0.8658517948717304, -0.1264656410256748],\n",
       " 'Коньково': [-0.9061312738852934, -1.0910858598726492],\n",
       " 'Хорошёвский': [-0.8962512643677911, 0.27212551724133505],\n",
       " 'Беговой': [-0.5066019008264533, 0.2991476033057694],\n",
       " 'Коптево': [-0.9301919631901256, 0.7900078527607945],\n",
       " 'Щербинка': [-0.7145463090129311, -2.492295364806907],\n",
       " 'Аэропорт': [-0.6998946341462897, 0.5030831707316707],\n",
       " 'Пресненский': [-0.3917011920528779, 0.11260635761594529],\n",
       " 'Северный': [-0.6690356074766157, 1.9139347663551831],\n",
       " 'Бескудниковский': [-0.6568983060109446, 1.1566802185792113],\n",
       " 'Гагаринский': [-0.5808864885496234, -0.5710919083968946],\n",
       " 'Тимирязевский': [-0.5923832163743015, 0.7831629239766613],\n",
       " 'Северное Бутово': [-0.6509892592592337, -1.7297822222222692],\n",
       " 'Лианозово': [-0.5055890163934862, 1.5022403278688046],\n",
       " 'Хамовники': [-0.30105554744523033, -0.11063489051096553],\n",
       " 'Восточное Дегунино': [-0.5792032394366231, 1.227131830985897],\n",
       " 'Савёловский': [-0.5229238144329429, 0.4841249484535126],\n",
       " 'Академический': [-0.3967775609756785, -0.6147381707317834],\n",
       " 'Зюзино': [-0.22523281690148167, -0.9721921126762112],\n",
       " 'Алтуфьевский': [-0.2935885714285291, 1.3002857142858204],\n",
       " 'Марфино': [-0.29327137931026925, 0.8431755172412636],\n",
       " 'Чертаново Центральное': [-0.2286283333333472, -1.362949444444368],\n",
       " 'Отрадное': [-0.04616766816148754, 1.143420986547099],\n",
       " 'Арбат': [-0.22871500000007927, -0.0005155555555802493],\n",
       " 'Чертаново Южное': [-0.2320841436463894, -1.6168295027624424],\n",
       " 'Бутырский': [-0.31878471698114197, 0.5723750943396766],\n",
       " 'Тверской': [-0.1296518614717712, 0.17916541125536867],\n",
       " 'Чертаново Северное': [-0.2506457142857954, -1.1951307142857104],\n",
       " 'Якиманка': [-0.08658744680850816, -0.22371978723406016],\n",
       " 'Котловка': [-0.17602943181820763, -0.7171826136363535],\n",
       " 'Останкинский': [-0.013558037383205601, 0.850374018691582],\n",
       " 'Донской': [-0.14492424083769606, -0.43038921465971214],\n",
       " 'Бибирево': [-0.0721901156070004, 1.384118959537517],\n",
       " 'Бирюлёво Западное': [0.25663428571427005, -1.6461069642857495],\n",
       " 'Марьина Роща': [-0.10624012658233539, 0.3941043037974623],\n",
       " 'Нагорный': [-0.0750611111110544, -0.7845655555556164],\n",
       " 'Свиблово': [0.2568995081967529, 1.0380755737704561],\n",
       " 'Даниловский': [0.15214458563534095, -0.3491935911601729],\n",
       " 'Мещанский': [0.0879665116279682, 0.249774728682155],\n",
       " 'Южное Медведково': [0.11703443514647915, 1.2273976569037615],\n",
       " 'Замоскворечье': [0.12798845238094714, -0.20417392857140726],\n",
       " 'Северное Медведково': [0.36024016574586426, 1.3474655248619882],\n",
       " 'Нагатино-Садовники': [0.24300974358979488, -0.8526361538461913],\n",
       " 'Москворечье-Сабурово': [0.47401422110553426, -1.1054877386935402],\n",
       " 'Царицыно': [0.331326462585011, -1.1939148299320124],\n",
       " 'Басманный': [0.48501454022989776, 0.13912925287357325],\n",
       " 'Красносельский': [0.29298019607843173, 0.21778352941176138],\n",
       " 'Ростокино': [0.3354002521008681, 0.829665042016785],\n",
       " 'Таганский': [0.46310744292227923, -0.08942584474887383],\n",
       " 'Алексеевский': [0.33763893203882844, 0.6326056310679462],\n",
       " 'Сокольники': [0.6838067088607858, 0.507812531645655],\n",
       " 'Бирюлёво Восточное': [0.6150114746544233, -1.5662473732718496],\n",
       " 'Бабушкинский': [0.4677997872340711, 1.1871663829786883],\n",
       " 'Южнопортовый': [0.6049177611940593, -0.33079671641793595],\n",
       " 'Ярославский': [0.823192485207187, 1.0818327810650885],\n",
       " 'Печатники': [0.8533420930232438, -0.616984767441906],\n",
       " 'Богородское': [0.8620363212435223, 0.6189755440414757],\n",
       " 'Метрогородок': [0.9832515642457906, 0.9420192178770748],\n",
       " 'Лефортово': [0.8792632203390838, 0.036423559322074084],\n",
       " 'Орехово-Борисово Северное': [0.8309431578947368, -1.3112247368420071],\n",
       " 'Лосиноостровский': [0.6475137500000017, 1.278814687500045],\n",
       " 'Нижегородский': [1.030134361702082, -0.16938946808501498],\n",
       " 'Перово': [1.5303729940119837, -0.003675928143778151],\n",
       " 'Орехово-Борисово Южное': [1.2883668627451073, -1.426589019607789],\n",
       " 'Марьино': [1.1922915999998906, -0.9285135999999028],\n",
       " 'Вешняки': [1.9033978688523945, -0.22321704918020657],\n",
       " 'Преображенское': [1.003146923076912, 0.43938307692314993],\n",
       " 'Соколиная Гора': [1.0484573239436656, 0.2850337089202526],\n",
       " 'Люблино': [1.5837739215686497, -0.8093082352941394],\n",
       " 'Текстильщики': [1.2454518181817775, -0.43438015151515685],\n",
       " 'Братеево': [1.4352644827586403, -1.2507710344827672],\n",
       " 'Зябликово': [1.3275967543859224, -1.3115035964912636],\n",
       " 'Рязанский': [1.4649680392156483, -0.3325399999999945],\n",
       " 'Измайлово': [1.5717991970802103, 0.3583636496350806],\n",
       " 'Новогиреево': [1.8611088888889782, -0.027997936507873078],\n",
       " 'Кузьминки': [1.5876091489360533, -0.538650638297824],\n",
       " 'Гольяново': [1.7558369811320063, 0.6770590566037527],\n",
       " 'Северное Измайлово': [1.833086129032253, 0.5558556989247876],\n",
       " 'Капотня': [2.0123339999999956, -1.0527871999999405],\n",
       " 'Выхино-Жулебино': [1.9410943697479155, -0.5888349579831953],\n",
       " 'Восточный': [2.560488390804565, 0.6361864367815429],\n",
       " 'Восточное Измайлово': [1.9613604761904924, 0.42674571428577224],\n",
       " 'Ивановское': [2.0627968518519424, 0.16796046296292388],\n",
       " 'Косино-Ухтомский': [2.855238778280622, -0.3124526696833385],\n",
       " 'Новокосино': [2.439654848484878, -0.10974151515142694],\n",
       " 'Некрасовка': [3.2838556031128263, -0.5554384435797743],\n",
       " 'Кунцево': [-3.2127089473684123, 0.49207052631579984]}"
      ]
     },
     "metadata": {},
     "execution_count": 380
    }
   ],
   "source": [
    "gminy_dict"
   ]
  },
  {
   "cell_type": "code",
   "execution_count": 352,
   "metadata": {},
   "outputs": [],
   "source": [
    "def array_to_str(array):\n",
    "    result = [\",\".join([str(elem) for elem in array])][0]\n",
    "    if result !='':\n",
    "        return result.strip()\n",
    "    else:\n",
    "        return None\n",
    "\n",
    "def split_elements_by_prefix (array):\n",
    "    elem_with_prefix = [] \n",
    "    elem_without_prefix = [] \n",
    "    for elem in array: \n",
    "        split_elem = elem.split('.')\n",
    "        if len(split_elem) > 1: \n",
    "            elem_with_prefix.append(split_elem[1].strip())\n",
    "        else: \n",
    "            elem_without_prefix.append(split_elem[0])\n",
    "    return elem_with_prefix, elem_without_prefix \n",
    "\n",
    "def get_object(array,obj):\n",
    "    result = [str(elem) for elem in array if obj in elem]\n",
    "    if len(result)>0:\n",
    "        array = [elem for elem in array if elem not in result]\n",
    "        return array_to_str(result), array\n",
    "    else:\n",
    "        return None, array\n",
    "\n",
    "def get_elems(array):\n",
    "    if 'Москва' in array: \n",
    "        array.remove('Москва')\n",
    "    if 'г. Москва' in array:\n",
    "        array.remove('г. Москва')\n",
    "    nova_mockba,array = get_object(array,'Новая Москва')\n",
    "    mck,array = get_object(array,'МЦК ') \n",
    "    m, array = get_object(array,'м. ') \n",
    "\n",
    "    elem_with_prefix, elem_without_prefix  = split_elements_by_prefix (array)\n",
    "    return nova_mockba,mck,m, elem_with_prefix, elem_without_prefix \n",
    "\n",
    "def check_elem_on_list(array,set_):\n",
    "    if len(array)>0:\n",
    "        return array_to_str([elem for elem in array if elem in set_])"
   ]
  },
  {
   "cell_type": "code",
   "execution_count": 353,
   "metadata": {},
   "outputs": [],
   "source": [
    "b = [get_elems(array) for array in train.breadcrumbs]"
   ]
  },
  {
   "cell_type": "code",
   "execution_count": 354,
   "metadata": {},
   "outputs": [],
   "source": [
    "df = pd.DataFrame(data=b,columns= ['nowa_moskwa','metro','m','with_prefix','without_prefix'])"
   ]
  },
  {
   "cell_type": "code",
   "execution_count": 355,
   "metadata": {},
   "outputs": [],
   "source": [
    "df['gminy'] = [check_elem_on_list(elem,gminy) for elem in df['without_prefix']]"
   ]
  },
  {
   "cell_type": "code",
   "execution_count": 377,
   "metadata": {},
   "outputs": [],
   "source": [
    "df['lat_lon'] = [lat_lon(elem_g,elem_m) for elem_g,elem_m in zip(df.gminy,df.metro)]  "
   ]
  },
  {
   "cell_type": "code",
   "execution_count": 379,
   "metadata": {},
   "outputs": [],
   "source": [
    "\n"
   ]
  },
  {
   "cell_type": "code",
   "execution_count": 378,
   "metadata": {},
   "outputs": [
    {
     "output_type": "execute_result",
     "data": {
      "text/plain": [
       "        nowa_moskwa                      metro                    m  \\\n",
       "0              None                МЦК Лужники                 None   \n",
       "1      Новая Москва               МЦК Крымская   м. Бунинская Аллея   \n",
       "2              None               МЦК Крымская                 None   \n",
       "3              None               МЦК Хорошёво            м. Динамо   \n",
       "4              None               МЦК Шелепиха              м. Фили   \n",
       "...             ...                        ...                  ...   \n",
       "45689          None                МЦК Лужники          м. Говорово   \n",
       "45690          None            МЦК Кутузовская                 None   \n",
       "45691          None          МЦК Нижегородская        м. Новокосино   \n",
       "45692          None  МЦК Бульвар Рокоссовского                 None   \n",
       "45693          None       МЦК Ботанический сад  м. Ботанический сад   \n",
       "\n",
       "                   with_prefix    without_prefix           gminy  \\\n",
       "0                           []                []            None   \n",
       "1      [Сосенское, Коммунарка]    [Южное Бутово]    Южное Бутово   \n",
       "2                     [Поляны]                []            None   \n",
       "3                           []         [Беговой]         Беговой   \n",
       "4                           []  [Филёвский Парк]  Филёвский Парк   \n",
       "...                        ...               ...             ...   \n",
       "45689                       []        [Солнцево]        Солнцево   \n",
       "45690                       []                []            None   \n",
       "45691                       []     [Новогиреево]     Новогиреево   \n",
       "45692                       []                []            None   \n",
       "45693                       []       [Ростокино]       Ростокино   \n",
       "\n",
       "                                           lat_lon  \n",
       "0       (-0.3030600000000305, -0.6055570000000188)  \n",
       "1         [-1.064900136108875, -2.248217902321983]  \n",
       "2      (-0.6124799999999908, -0.15399700000003236)  \n",
       "3        [-0.5066019008264533, 0.2991476033057694]  \n",
       "4      [-1.4509627433628935, -0.02548955752210702]  \n",
       "...                                            ...  \n",
       "45689    [-2.2045360869564945, -1.086002318840542]  \n",
       "45690  (-0.11521000000001891, -0.8618469999999689)  \n",
       "45691  [1.8611088888889782, -0.027997936507873078]  \n",
       "45692      (0.659780000000012, 1.1633139999999997)  \n",
       "45693      [0.3354002521008681, 0.829665042016785]  \n",
       "\n",
       "[45694 rows x 7 columns]"
      ],
      "text/html": "<div>\n<style scoped>\n    .dataframe tbody tr th:only-of-type {\n        vertical-align: middle;\n    }\n\n    .dataframe tbody tr th {\n        vertical-align: top;\n    }\n\n    .dataframe thead th {\n        text-align: right;\n    }\n</style>\n<table border=\"1\" class=\"dataframe\">\n  <thead>\n    <tr style=\"text-align: right;\">\n      <th></th>\n      <th>nowa_moskwa</th>\n      <th>metro</th>\n      <th>m</th>\n      <th>with_prefix</th>\n      <th>without_prefix</th>\n      <th>gminy</th>\n      <th>lat_lon</th>\n    </tr>\n  </thead>\n  <tbody>\n    <tr>\n      <th>0</th>\n      <td>None</td>\n      <td>МЦК Лужники</td>\n      <td>None</td>\n      <td>[]</td>\n      <td>[]</td>\n      <td>None</td>\n      <td>(-0.3030600000000305, -0.6055570000000188)</td>\n    </tr>\n    <tr>\n      <th>1</th>\n      <td>Новая Москва</td>\n      <td>МЦК Крымская</td>\n      <td>м. Бунинская Аллея</td>\n      <td>[Сосенское, Коммунарка]</td>\n      <td>[Южное Бутово]</td>\n      <td>Южное Бутово</td>\n      <td>[-1.064900136108875, -2.248217902321983]</td>\n    </tr>\n    <tr>\n      <th>2</th>\n      <td>None</td>\n      <td>МЦК Крымская</td>\n      <td>None</td>\n      <td>[Поляны]</td>\n      <td>[]</td>\n      <td>None</td>\n      <td>(-0.6124799999999908, -0.15399700000003236)</td>\n    </tr>\n    <tr>\n      <th>3</th>\n      <td>None</td>\n      <td>МЦК Хорошёво</td>\n      <td>м. Динамо</td>\n      <td>[]</td>\n      <td>[Беговой]</td>\n      <td>Беговой</td>\n      <td>[-0.5066019008264533, 0.2991476033057694]</td>\n    </tr>\n    <tr>\n      <th>4</th>\n      <td>None</td>\n      <td>МЦК Шелепиха</td>\n      <td>м. Фили</td>\n      <td>[]</td>\n      <td>[Филёвский Парк]</td>\n      <td>Филёвский Парк</td>\n      <td>[-1.4509627433628935, -0.02548955752210702]</td>\n    </tr>\n    <tr>\n      <th>...</th>\n      <td>...</td>\n      <td>...</td>\n      <td>...</td>\n      <td>...</td>\n      <td>...</td>\n      <td>...</td>\n      <td>...</td>\n    </tr>\n    <tr>\n      <th>45689</th>\n      <td>None</td>\n      <td>МЦК Лужники</td>\n      <td>м. Говорово</td>\n      <td>[]</td>\n      <td>[Солнцево]</td>\n      <td>Солнцево</td>\n      <td>[-2.2045360869564945, -1.086002318840542]</td>\n    </tr>\n    <tr>\n      <th>45690</th>\n      <td>None</td>\n      <td>МЦК Кутузовская</td>\n      <td>None</td>\n      <td>[]</td>\n      <td>[]</td>\n      <td>None</td>\n      <td>(-0.11521000000001891, -0.8618469999999689)</td>\n    </tr>\n    <tr>\n      <th>45691</th>\n      <td>None</td>\n      <td>МЦК Нижегородская</td>\n      <td>м. Новокосино</td>\n      <td>[]</td>\n      <td>[Новогиреево]</td>\n      <td>Новогиреево</td>\n      <td>[1.8611088888889782, -0.027997936507873078]</td>\n    </tr>\n    <tr>\n      <th>45692</th>\n      <td>None</td>\n      <td>МЦК Бульвар Рокоссовского</td>\n      <td>None</td>\n      <td>[]</td>\n      <td>[]</td>\n      <td>None</td>\n      <td>(0.659780000000012, 1.1633139999999997)</td>\n    </tr>\n    <tr>\n      <th>45693</th>\n      <td>None</td>\n      <td>МЦК Ботанический сад</td>\n      <td>м. Ботанический сад</td>\n      <td>[]</td>\n      <td>[Ростокино]</td>\n      <td>Ростокино</td>\n      <td>[0.3354002521008681, 0.829665042016785]</td>\n    </tr>\n  </tbody>\n</table>\n<p>45694 rows × 7 columns</p>\n</div>"
     },
     "metadata": {},
     "execution_count": 378
    }
   ],
   "source": [
    "df"
   ]
  },
  {
   "cell_type": "code",
   "execution_count": null,
   "metadata": {},
   "outputs": [],
   "source": []
  }
 ]
}