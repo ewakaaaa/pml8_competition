{
 "metadata": {
  "language_info": {
   "codemirror_mode": {
    "name": "ipython",
    "version": 3
   },
   "file_extension": ".py",
   "mimetype": "text/x-python",
   "name": "python",
   "nbconvert_exporter": "python",
   "pygments_lexer": "ipython3",
   "version": "3.8.0-final"
  },
  "orig_nbformat": 2,
  "kernelspec": {
   "name": "python380jvsc74a57bd01f1d355018a408da7edfa29b4a24e5a1faf9b95f0b0ec1edb54ceea9b4170831",
   "display_name": "Python 3.8.0 64-bit ('pml8')"
  }
 },
 "nbformat": 4,
 "nbformat_minor": 2,
 "cells": [
  {
   "cell_type": "code",
   "execution_count": 1,
   "metadata": {},
   "outputs": [
    {
     "output_type": "execute_result",
     "data": {
      "text/plain": [
       "                                         breadcrumbs  \\\n",
       "0                              [Москва, МЦК Лужники]   \n",
       "1  [Москва, Новая Москва, п. Сосенское, п. Коммун...   \n",
       "\n",
       "                                                date  \\\n",
       "0  [23 февраля 2018, 133, (+2 за сегодня), Обновл...   \n",
       "1              [сегодня в 04:52, 3, (+3 за сегодня)]   \n",
       "\n",
       "                                           geo_block owner       price  \\\n",
       "0                             [г. Москва, г. Москва]    []  380.610000   \n",
       "1  [Новая Москва, п. Сосенское, п. Коммунарка, Юж...    []    8.004631   \n",
       "\n",
       "                                           Security:    Building type:  \\\n",
       "0  secure Parking, video surveillance, 24-hour se...             Brick   \n",
       "1                                                Yes  Monolithic-brick   \n",
       "\n",
       "  Object type:            Ad type: Commission agent:  ... Room type:  \\\n",
       "0   apartments        new building            no fee  ...        NaN   \n",
       "1         flat  from the developer            no fee  ...        NaN   \n",
       "\n",
       "  Internet: Kitchen furniture:  TV: Washing machine: Foundation type:  \\\n",
       "0       NaN                NaN  NaN              NaN              NaN   \n",
       "1       NaN                NaN  NaN              NaN              NaN   \n",
       "\n",
       "  Overlap type: Type of the building: Playground: Class:  \n",
       "0           NaN                   NaN         NaN    NaN  \n",
       "1           NaN                   NaN         NaN    NaN  \n",
       "\n",
       "[2 rows x 35 columns]"
      ],
      "text/html": "<div>\n<style scoped>\n    .dataframe tbody tr th:only-of-type {\n        vertical-align: middle;\n    }\n\n    .dataframe tbody tr th {\n        vertical-align: top;\n    }\n\n    .dataframe thead th {\n        text-align: right;\n    }\n</style>\n<table border=\"1\" class=\"dataframe\">\n  <thead>\n    <tr style=\"text-align: right;\">\n      <th></th>\n      <th>breadcrumbs</th>\n      <th>date</th>\n      <th>geo_block</th>\n      <th>owner</th>\n      <th>price</th>\n      <th>Security:</th>\n      <th>Building type:</th>\n      <th>Object type:</th>\n      <th>Ad type:</th>\n      <th>Commission agent:</th>\n      <th>...</th>\n      <th>Room type:</th>\n      <th>Internet:</th>\n      <th>Kitchen furniture:</th>\n      <th>TV:</th>\n      <th>Washing machine:</th>\n      <th>Foundation type:</th>\n      <th>Overlap type:</th>\n      <th>Type of the building:</th>\n      <th>Playground:</th>\n      <th>Class:</th>\n    </tr>\n  </thead>\n  <tbody>\n    <tr>\n      <th>0</th>\n      <td>[Москва, МЦК Лужники]</td>\n      <td>[23 февраля 2018, 133, (+2 за сегодня), Обновл...</td>\n      <td>[г. Москва, г. Москва]</td>\n      <td>[]</td>\n      <td>380.610000</td>\n      <td>secure Parking, video surveillance, 24-hour se...</td>\n      <td>Brick</td>\n      <td>apartments</td>\n      <td>new building</td>\n      <td>no fee</td>\n      <td>...</td>\n      <td>NaN</td>\n      <td>NaN</td>\n      <td>NaN</td>\n      <td>NaN</td>\n      <td>NaN</td>\n      <td>NaN</td>\n      <td>NaN</td>\n      <td>NaN</td>\n      <td>NaN</td>\n      <td>NaN</td>\n    </tr>\n    <tr>\n      <th>1</th>\n      <td>[Москва, Новая Москва, п. Сосенское, п. Коммун...</td>\n      <td>[сегодня в 04:52, 3, (+3 за сегодня)]</td>\n      <td>[Новая Москва, п. Сосенское, п. Коммунарка, Юж...</td>\n      <td>[]</td>\n      <td>8.004631</td>\n      <td>Yes</td>\n      <td>Monolithic-brick</td>\n      <td>flat</td>\n      <td>from the developer</td>\n      <td>no fee</td>\n      <td>...</td>\n      <td>NaN</td>\n      <td>NaN</td>\n      <td>NaN</td>\n      <td>NaN</td>\n      <td>NaN</td>\n      <td>NaN</td>\n      <td>NaN</td>\n      <td>NaN</td>\n      <td>NaN</td>\n      <td>NaN</td>\n    </tr>\n  </tbody>\n</table>\n<p>2 rows × 35 columns</p>\n</div>"
     },
     "metadata": {},
     "execution_count": 1
    }
   ],
   "source": [
    "import pandas as pd\n",
    "import numpy as np\n",
    "from collections import Counter\n",
    "from utils.data_prepare import security,rename_security \n",
    "\n",
    "train = pd.read_hdf('data/property.train.h5')\n",
    "train.head(2)"
   ]
  },
  {
   "cell_type": "code",
   "execution_count": 4,
   "metadata": {},
   "outputs": [],
   "source": [
    "all_security = []\n",
    "for value in train['security_split']:\n",
    "    if value != 'nan':\n",
    "        for elem in value:\n",
    "            all_security.append(elem)"
   ]
  },
  {
   "cell_type": "code",
   "execution_count": 6,
   "metadata": {},
   "outputs": [
    {
     "output_type": "execute_result",
     "data": {
      "text/plain": [
       "[('provided', 17188),\n",
       " ('closed area', 3196),\n",
       " ('video surveillance', 2369),\n",
       " ('concierge', 1921),\n",
       " ('yes', 1286),\n",
       " ('fenced area', 883),\n",
       " ('access control system', 761),\n",
       " ('round the clock security', 602),\n",
       " ('barrier', 399),\n",
       " ('fenced', 334),\n",
       " ('well guarded by security cameras around the perimeter', 324),\n",
       " ('the area with landscaping and the use of small architectural forms', 324),\n",
       " ('high-quality and safe playgrounds.', 324),\n",
       " ('intercom', 295),\n",
       " ('access system', 235),\n",
       " ('protected area', 232),\n",
       " ('fenced guarded territory', 184),\n",
       " ('secure parking', 153),\n",
       " ('24-hour security', 147),\n",
       " ('access control', 133),\n",
       " ('round the clock security.', 129),\n",
       " ('checkpoint', 126),\n",
       " ('alarm system', 126),\n",
       " ('fenced perimeter', 109),\n",
       " ('fire system', 109),\n",
       " ('burglar alarm', 107),\n",
       " ('video monitoring', 107),\n",
       " ('security', 78),\n",
       " ('concierge service 24/7', 68),\n",
       " ('24-hour concierge service', 56),\n",
       " ('private protected area', 42),\n",
       " ('protected chop', 41),\n",
       " ('the presence of cctv', 41),\n",
       " ('provided to help', 41),\n",
       " ('multilevel round-the-clock armed security', 41),\n",
       " ('professional round-the-clock security', 38),\n",
       " ('is', 38),\n",
       " ('fenced protected area', 36),\n",
       " ('not allowed', 33),\n",
       " ('round-the-clock security system', 32),\n",
       " ('video intercom', 32),\n",
       " ('video surveillance and access control system', 29),\n",
       " ('enclosed courtyard', 28),\n",
       " ('automatic fire extinguishing systems', 17),\n",
       " ('24-hour security of the complex', 17),\n",
       " ('concierge allow you not to worry about the safety of your stay. video surveillance and access control systems make it impossible to enter the territory of unwanted guests',\n",
       "  17),\n",
       " ('cctv', 16),\n",
       " ('alarms', 15),\n",
       " ('closed territory', 15),\n",
       " ('the area is fenced', 12),\n",
       " ('multi-level security system', 11),\n",
       " ('concierge service', 11),\n",
       " ('video surveillance on the perimeter', 9),\n",
       " ('guarded area', 7),\n",
       " ('no', 7),\n",
       " ('security alarm of all premises with life support systems of the building',\n",
       "  7),\n",
       " ('video surveillance of the perimeter of the building', 7),\n",
       " ('entrance and underground parking.', 7),\n",
       " ('protected', 5),\n",
       " ('the whole area is fenced and guarded around the clock.', 5),\n",
       " ('secure area', 5),\n",
       " ('landscaped and fenced area', 4),\n",
       " ('fenced area with security', 4),\n",
       " ('cat t', 3),\n",
       " ('24-hour video surveillance', 3),\n",
       " ('the territory of the complex is equipped with round-the-clock video surveillance of the entire perimeter and security.',\n",
       "  3),\n",
       " ('round the clock protected area', 3),\n",
       " ('perimeter security', 3),\n",
       " ('the presence of video surveillance', 3),\n",
       " ('fenced guarded area', 2),\n",
       " ('round-the-clock video surveillance', 2),\n",
       " ('guarded by chop', 2),\n",
       " ('round-the-clock video surveillance. guarded by chop.', 1),\n",
       " ('24-hour security and concierge service', 1),\n",
       " (\"landscaped courtyard with children's playground and guest parking.\", 1),\n",
       " ('security post', 1),\n",
       " ('electronic access control', 1),\n",
       " ('automatic fire alarm', 1),\n",
       " ('warning system and evacuation management', 1),\n",
       " ('fenced territory with cctv cameras', 1),\n",
       " ('access control and security systems', 1),\n",
       " ('integrated security system', 1),\n",
       " ('video monitoring system', 1),\n",
       " ('checkpoint.', 1),\n",
       " ('security system', 1),\n",
       " ('a place for the concierge', 1),\n",
       " ('video surveillance system', 1),\n",
       " ('the territory of the complex is fenced and guarded', 1),\n",
       " ('organized around the clock video surveillance.', 1),\n",
       " ('concierge. doorphone.', 1),\n",
       " ('perimeter fencing', 1),\n",
       " ('video surveillance systems', 1),\n",
       " ('professional security service', 1),\n",
       " ('concierge and security facilities', 1),\n",
       " ('ogorojennaja territory', 1),\n",
       " ('control of access to the territory', 1),\n",
       " ('fenced and protected area', 1),\n",
       " ('video intercoms', 1),\n",
       " ('ip-intercom', 1),\n",
       " ('protected fenced area', 1),\n",
       " ('there is a room for the concierge', 1)]"
      ]
     },
     "metadata": {},
     "execution_count": 6
    }
   ],
   "source": [
    "s = Counter(all_security) \n",
    "s.most_common()"
   ]
  },
  {
   "cell_type": "code",
   "execution_count": 9,
   "metadata": {},
   "outputs": [
    {
     "output_type": "stream",
     "name": "stdout",
     "text": [
      "fire system -> fire system\naccess control -> access control system\naccess control system -> access control system\nround the clock protected area -> round the clock protected area\nfenced area with security -> fenced area\nautomatic fire extinguishing systems -> fire system\nvideo surveillance system -> video surveillance\nwarning system and evacuation management -> alarm system\nlandscaped and fenced area -> fenced area\nconcierge. doorphone. -> concierge\nbarrier -> closed area\nthe area is fenced -> fenced area\nvideo surveillance of the perimeter of the building -> video surveillance\nburglar alarm -> alarm system\nfenced -> fenced area\nsecure parking -> parking\nvideo surveillance systems -> video surveillance\nsecurity post -> round the clock security\nthe area with landscaping and the use of small architectural forms -> the area with landscaping and the use of small architectural forms\nmultilevel round-the-clock armed security -> round the clock security\nmulti-level security system -> round the clock security\nsecure area -> secure area\nsecurity -> provided\nintegrated security system -> round the clock security\nsecurity system -> round the clock security\norganized around the clock video surveillance. -> video surveillance\nogorojennaja territory -> closed area\nround the clock security -> round the clock security\nip-intercom -> intercom\nfenced protected area -> fenced area\nprotected fenced area -> fenced area\nno -> nan\n24-hour video surveillance -> video surveillance\ncctv -> video surveillance\nvideo surveillance and access control system -> video surveillance\nlandscaped courtyard with children's playground and guest parking. -> parking\nfenced territory with cctv cameras -> video surveillance\nvideo monitoring -> video surveillance\nperimeter security -> round the clock security\nfenced area -> fenced area\nprovided to help -> provided\nguarded by chop -> concierge\nround the clock security. -> round the clock security\nprofessional round-the-clock security -> round the clock security\nthe territory of the complex is equipped with round-the-clock video surveillance of the entire perimeter and security. -> video surveillance\nfenced guarded territory -> fenced area\nalarm system -> alarm system\nround-the-clock security system -> round the clock security\nprotected chop -> concierge\nautomatic fire alarm -> fire system\ncheckpoint. -> checkpoint\nenclosed courtyard -> fenced area\nthe whole area is fenced and guarded around the clock. -> fenced area\nvideo intercom -> intercom\nprotected area -> provided\nfenced perimeter -> fenced area\n24-hour security of the complex -> round the clock security\nsecurity alarm of all premises with life support systems of the building -> alarm system\nconcierge allow you not to worry about the safety of your stay. video surveillance and access control systems make it impossible to enter the territory of unwanted guests -> video surveillance\nnot allowed -> nan\nfenced guarded area -> fenced area\nconcierge and security facilities -> concierge\nthere is a room for the concierge -> concierge\nround-the-clock video surveillance. guarded by chop. -> video surveillance\na place for the concierge -> concierge\n24-hour security -> round the clock security\nconcierge service -> concierge\ncheckpoint -> checkpoint\nprovided -> provided\nvideo intercoms -> intercom\nintercom -> intercom\ncat t -> nan\nyes -> provided\nconcierge service 24/7 -> concierge\nprofessional security service -> round the clock security\nconcierge -> concierge\nclosed area -> closed area\nclosed territory -> closed area\nelectronic access control -> access control system\nalarms -> alarm system\naccess system -> access control system\nvideo monitoring system -> video surveillance\nround-the-clock video surveillance -> video surveillance\nvideo surveillance -> video surveillance\nthe presence of video surveillance -> video surveillance\nthe territory of the complex is fenced and guarded -> fenced area\ncontrol of access to the territory -> access control system\nhigh-quality and safe playgrounds. -> high-quality and safe playgrounds.\n24-hour security and concierge service -> concierge\nvideo surveillance on the perimeter -> video surveillance\naccess control and security systems -> round the clock security\nfenced and protected area -> fenced area\nwell guarded by security cameras around the perimeter -> video surveillance\nthe presence of cctv -> video surveillance\nprotected -> provided\nprivate protected area -> closed area\nperimeter fencing -> closed area\nguarded area -> provided\nis -> provided\nentrance and underground parking. -> parking\n24-hour concierge service -> concierge\n17\n"
     ]
    }
   ],
   "source": [
    "new_security_value = set()\n",
    "for elem in list(set(all_security)): \n",
    "    print(elem +' -> ' + rename_security (elem))\n",
    "    new_security_value.add(rename_security (elem))\n",
    "print(len(new_security_value))"
   ]
  },
  {
   "cell_type": "code",
   "execution_count": null,
   "metadata": {},
   "outputs": [],
   "source": [
    "multi_options_list = \n",
    "['the territory of the complex is fenced and guarded'\n",
    "'fenced territory with cctv cameras'\n",
    "'24-hour security and concierge service'\n",
    "\"video surveillance and access control system\"\n",
    "\"round-the-clock video surveillance\"\n",
    "'fenced area with security'\n",
    "'access control and security systems' \n",
    "'the whole area is fenced and guarded around the clock.'\n",
    "'concierge allow you not to worry about the safety of your stay. video surveillance and access control systems make it impossible to enter the territory of unwanted guests'\n",
    "'video surveillance and access control system'\n",
    "'24-hour security and concierge service'] "
   ]
  },
  {
   "cell_type": "code",
   "execution_count": 11,
   "metadata": {},
   "outputs": [
    {
     "output_type": "execute_result",
     "data": {
      "text/plain": [
       "{'access control system',\n",
       " 'alarm system',\n",
       " 'checkpoint',\n",
       " 'closed area',\n",
       " 'concierge',\n",
       " 'fenced area',\n",
       " 'fire system',\n",
       " 'high-quality and safe playgrounds.',\n",
       " 'intercom',\n",
       " 'nan',\n",
       " 'parking',\n",
       " 'provided',\n",
       " 'round the clock protected area',\n",
       " 'round the clock security',\n",
       " 'secure area',\n",
       " 'the area with landscaping and the use of small architectural forms',\n",
       " 'video surveillance'}"
      ]
     },
     "metadata": {},
     "execution_count": 11
    }
   ],
   "source": [
    "new_security_value"
   ]
  },
  {
   "cell_type": "code",
   "execution_count": 3,
   "metadata": {},
   "outputs": [],
   "source": [
    "train = security(train)"
   ]
  },
  {
   "cell_type": "code",
   "execution_count": 6,
   "metadata": {},
   "outputs": [
    {
     "output_type": "execute_result",
     "data": {
      "text/plain": [
       "array([5, 1, 0, 4, 2, 3, 6, 8])"
      ]
     },
     "metadata": {},
     "execution_count": 6
    }
   ],
   "source": [
    "train.security.unique()"
   ]
  }
 ]
}